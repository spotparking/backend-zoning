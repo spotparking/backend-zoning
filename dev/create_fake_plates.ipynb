{
 "cells": [
  {
   "cell_type": "code",
   "execution_count": 6,
   "metadata": {},
   "outputs": [],
   "source": [
    "import pandas as pd\n",
    "import random\n",
    "import string\n",
    "\n",
    "df = pd.read_csv(\"../zoning_data/video_information.csv\")\n",
    "\n",
    "# Function to generate a unique fake license plate\n",
    "def generate_license_plate():\n",
    "    return ''.join(random.choices(string.ascii_uppercase, k=3)) + '-' + ''.join(random.choices(string.digits, k=4))\n",
    "\n",
    "license_map = {}\n",
    "\n",
    "df[\"fake_license_plate\"] = df[\"enter_video\"].map(lambda ev: license_map.setdefault(ev, generate_license_plate()))\n",
    "\n",
    "df.to_csv(\"../zoning_data/video_information.csv\", index=False)"
   ]
  },
  {
   "cell_type": "code",
   "execution_count": 9,
   "metadata": {},
   "outputs": [
    {
     "name": "stdout",
     "output_type": "stream",
     "text": [
      "396\n"
     ]
    }
   ],
   "source": [
    "license_plates = df[\"fake_license_plate\"].nunique()\n",
    "df = pd.read_csv(\"../zoning_data/video_information.csv\")\n",
    "\n",
    "unique_pairs = set()\n",
    "\n",
    "for i, row in df.iterrows():\n",
    "    unique_pairs.add((row[\"enter_video\"], row[\"leave_video\"]))\n",
    "    \n",
    "print(len(unique_pairs))"
   ]
  },
  {
   "cell_type": "code",
   "execution_count": 10,
   "metadata": {},
   "outputs": [],
   "source": [
    "license_plates = set()\n",
    "\n",
    "while len(license_plates) < 396:\n",
    "    license_plates.add(generate_license_plate())"
   ]
  },
  {
   "cell_type": "code",
   "execution_count": 11,
   "metadata": {},
   "outputs": [],
   "source": [
    "while unique_pairs:\n",
    "    pair = unique_pairs.pop()\n",
    "    license_plate = license_plates.pop()\n",
    "    df.loc[(df[\"enter_video\"] == pair[0]) & (df[\"leave_video\"] == pair[1]), \"fake_license_plate\"] = license_plate"
   ]
  },
  {
   "cell_type": "code",
   "execution_count": 12,
   "metadata": {},
   "outputs": [],
   "source": [
    "df.to_csv(\"../zoning_data/video_information.csv\", index=False)"
   ]
  },
  {
   "cell_type": "code",
   "execution_count": 13,
   "metadata": {},
   "outputs": [
    {
     "name": "stdout",
     "output_type": "stream",
     "text": [
      "396\n"
     ]
    }
   ],
   "source": [
    "unique_plates = set()\n",
    "\n",
    "for i, row in df.iterrows():\n",
    "    unique_plates.add(row[\"fake_license_plate\"])\n",
    "    \n",
    "print(len(unique_plates))"
   ]
  }
 ],
 "metadata": {
  "kernelspec": {
   "display_name": "spot_parking",
   "language": "python",
   "name": "python3"
  },
  "language_info": {
   "codemirror_mode": {
    "name": "ipython",
    "version": 3
   },
   "file_extension": ".py",
   "mimetype": "text/x-python",
   "name": "python",
   "nbconvert_exporter": "python",
   "pygments_lexer": "ipython3",
   "version": "3.13.1"
  }
 },
 "nbformat": 4,
 "nbformat_minor": 2
}
