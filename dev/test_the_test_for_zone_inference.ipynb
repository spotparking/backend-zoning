{
 "cells": [
  {
   "cell_type": "code",
   "execution_count": 1,
   "metadata": {},
   "outputs": [
    {
     "name": "stdout",
     "output_type": "stream",
     "text": [
      "/Users/josephnelson/Documents/Spot Parking/backend-zoning\n"
     ]
    }
   ],
   "source": [
    "import os\n",
    "os.chdir(\"..\")\n",
    "import sys\n",
    "sys.path.append(os.getcwd())\n",
    "print(os.getcwd())"
   ]
  },
  {
   "cell_type": "code",
   "execution_count": 2,
   "metadata": {},
   "outputs": [],
   "source": [
    "import sys\n",
    "sys.path.append('../tests')\n",
    "from tests.zone_inference import test_zone_inference\n",
    "\n",
    "zone_size = 7\n",
    "data_path = './test_data/crabtree_lot_4/'\n",
    "test_rounds = 200\n",
    "total_correct = 0\n",
    "total_incorrect = 0\n",
    "\n",
    "for i in range(test_rounds):\n",
    "    correct, incorrect = test_zone_inference(zone_size, data_path)\n",
    "    total_correct += correct\n",
    "    total_incorrect += incorrect"
   ]
  },
  {
   "cell_type": "code",
   "execution_count": 3,
   "metadata": {},
   "outputs": [
    {
     "name": "stdout",
     "output_type": "stream",
     "text": [
      "Total correct: 1198\n",
      "Total incorrect: 202\n",
      "Accuracy: 0.8557142857142858\n"
     ]
    }
   ],
   "source": [
    "print('Total correct:', total_correct)\n",
    "print('Total incorrect:', total_incorrect)\n",
    "print('Accuracy:', total_correct / (total_correct + total_incorrect))"
   ]
  },
  {
   "cell_type": "code",
   "execution_count": 4,
   "metadata": {},
   "outputs": [
    {
     "name": "stdout",
     "output_type": "stream",
     "text": [
      "1400\n"
     ]
    }
   ],
   "source": [
    "print(7*200)"
   ]
  }
 ],
 "metadata": {
  "kernelspec": {
   "display_name": "spot_parking",
   "language": "python",
   "name": "python3"
  },
  "language_info": {
   "codemirror_mode": {
    "name": "ipython",
    "version": 3
   },
   "file_extension": ".py",
   "mimetype": "text/x-python",
   "name": "python",
   "nbconvert_exporter": "python",
   "pygments_lexer": "ipython3",
   "version": "3.13.1"
  }
 },
 "nbformat": 4,
 "nbformat_minor": 2
}
