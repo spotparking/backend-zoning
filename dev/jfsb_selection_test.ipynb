{
 "cells": [
  {
   "cell_type": "code",
   "execution_count": 1,
   "metadata": {},
   "outputs": [
    {
     "name": "stdout",
     "output_type": "stream",
     "text": [
      "/home/development/SPOT/backend-zoning\n"
     ]
    }
   ],
   "source": [
    "import os\n",
    "os.chdir(\"..\")\n",
    "import sys\n",
    "sys.path.append(os.getcwd())\n",
    "print(os.getcwd())"
   ]
  },
  {
   "cell_type": "code",
   "execution_count": null,
   "metadata": {},
   "outputs": [],
   "source": [
    "# base python imports\n",
    "import json\n",
    "\n",
    "# third-party imports\n",
    "import cv2\n",
    "import matplotlib.pyplot as plt\n",
    "import pandas as pd\n",
    "import numpy as np\n",
    "from jeffutils.analytics import set_np_pd_display_params\n",
    "from jeffutils.utils import reimport\n",
    "set_np_pd_display_params(np, pd)\n",
    "\n",
    "# native imports\n",
    "# the reimport function helps reimport .py files without having to restart the python kernel\n",
    "reimport(\"\"\"\n",
    "import modules.data_manager as dm\n",
    "\"\"\", globals())\n",
    "import modules.data_manager as dm"
   ]
  },
  {
   "cell_type": "markdown",
   "metadata": {},
   "source": [
    "# load an example of each datapoint for a specific video_name"
   ]
  },
  {
   "cell_type": "code",
   "execution_count": 14,
   "metadata": {},
   "outputs": [
    {
     "name": "stdout",
     "output_type": "stream",
     "text": [
      "2025-02-14-17-25-00 000004-1-JFSBP1_center_east\n"
     ]
    }
   ],
   "source": [
    "video_name = \"2025-02-14-17-25-00_000004-1-JFSBP1_center_east\"\n",
    "date_str, cam_label = dm.get_date_str_cam_label(video_name)\n",
    "print(date_str, cam_label)\n",
    "\n",
    "tracking_csv_path = dm.get_jfsb_tracking_csv_path(video_name)\n",
    "tracking_df = pd.read_csv(tracking_csv_path)\n",
    "\n",
    "motion_csv_path = dm.get_jfsb_motion_csv_path(video_name)\n",
    "motion_df = pd.read_csv(motion_csv_path)\n",
    "\n",
    "info_csv_path = dm.get_jfsb_info_csv_path()\n",
    "info_df = pd.read_csv(info_csv_path)\n",
    "\n",
    "video_path = dm.get_jfsb_video_path(video_name)"
   ]
  },
  {
   "cell_type": "markdown",
   "metadata": {},
   "source": [
    "# display number of enter/exit videos per region"
   ]
  },
  {
   "cell_type": "code",
   "execution_count": 15,
   "metadata": {},
   "outputs": [
    {
     "name": "stdout",
     "output_type": "stream",
     "text": [
      "enter\n"
     ]
    },
    {
     "data": {
      "text/plain": [
       "which_parking_zone\n",
       "JFSBP1_center_west-region_1-north_west    51\n",
       "JFSBP2_east_west-region_0-south_east      32\n",
       "JFSBP2_west_east-region_3-south_west      26\n",
       "JFSBP1_east_west-region_0-south_east      19\n",
       "JFSBP2_center_west-region_0-south_west    19\n",
       "JFSBP2_center_east-region_0-north_east    18\n",
       "JFSBP1_center_east-region_0-north_east    16\n",
       "JFSBP2_center_east-region_1-south_east    16\n",
       "JFSBP2_east_west-region_1-north_east      10\n",
       "JFSBP1_center_east-region_1-south_east     9\n",
       "JFSBP2_west_east-region_0-north_west       8\n",
       "JFSBP1_east_west-region_1-north_east       7\n",
       "JFSBP1_west_east-region_1-south_west       7\n",
       "JFSBP1_center_west-region_0-south_west     5\n",
       "JFSBP1_west_east-region_0-north_west       4\n",
       "JFSBP2_center_west-region_1-north_west     3\n",
       "Name: count, dtype: int64"
      ]
     },
     "metadata": {},
     "output_type": "display_data"
    },
    {
     "name": "stdout",
     "output_type": "stream",
     "text": [
      "exit\n"
     ]
    },
    {
     "data": {
      "text/plain": [
       "which_parking_zone\n",
       "JFSBP2_center_east-region_0-north_east    22\n",
       "JFSBP2_east_west-region_0-south_east      21\n",
       "JFSBP2_west_east-region_3-south_west      21\n",
       "JFSBP1_east_west-region_0-south_east      19\n",
       "JFSBP1_center_east-region_0-north_east    16\n",
       "JFSBP1_east_west-region_1-north_east      11\n",
       "JFSBP1_center_west-region_1-north_west    10\n",
       "JFSBP2_center_east-region_1-south_east     9\n",
       "JFSBP2_east_west-region_1-north_east       9\n",
       "JFSBP1_west_east-region_1-south_west       8\n",
       "JFSBP2_center_west-region_0-south_west     8\n",
       "JFSBP2_center_west-region_1-north_west     5\n",
       "JFSBP2_west_east-region_0-north_west       3\n",
       "JFSBP1_center_east-region_1-south_east     2\n",
       "JFSBP1_center_west-region_0-south_west     2\n",
       "JFSBP1_west_east-region_0-north_west       1\n",
       "Name: count, dtype: int64"
      ]
     },
     "metadata": {},
     "output_type": "display_data"
    }
   ],
   "source": [
    "for action, action_frame in info_df.groupby('which_action'):\n",
    "    print(action)\n",
    "    display(action_frame['which_parking_zone'].value_counts())"
   ]
  },
  {
   "cell_type": "markdown",
   "metadata": {},
   "source": [
    "# test the data_manager methods"
   ]
  },
  {
   "cell_type": "code",
   "execution_count": 11,
   "metadata": {},
   "outputs": [
    {
     "name": "stdout",
     "output_type": "stream",
     "text": [
      "000004-1-JFSBP1_center_west region_0 south_west\n",
      "{\n",
      "  \"zone_name\": \"south_west\",\n",
      "  \"direction\": \"LEFT\",\n",
      "  \"points\": [\n",
      "    [\n",
      "      0.0,\n",
      "      0.0\n",
      "    ],\n",
      "    [\n",
      "      0.46836,\n",
      "      0.0\n",
      "    ],\n",
      "    [\n",
      "      0.46759,\n",
      "      0.02675\n",
      "    ],\n",
      "    [\n",
      "      0.37269,\n",
      "      0.09053\n",
      "    ],\n",
      "    [\n",
      "      0.29282,\n",
      "      0.16307\n",
      "    ],\n",
      "    [\n",
      "      0.08063,\n",
      "      0.40484\n",
      "    ],\n",
      "    [\n",
      "      0.0,\n",
      "      0.53447\n",
      "    ]\n",
      "  ]\n",
      "}\n",
      "{\n",
      "  \"height\": 1944,\n",
      "  \"width\": 2592\n",
      "}\n"
     ]
    }
   ],
   "source": [
    "zoneID = \"JFSBP1_center_west-region_0-south_west\"\n",
    "\n",
    "cam_label, region_id, zone_name = dm.parse_zoneID(zoneID)\n",
    "print(cam_label, region_id, zone_name)\n",
    "\n",
    "zone_settings = dm.get_zone_settings(zoneID)\n",
    "print(json.dumps(zone_settings, indent=2))\n",
    "\n",
    "cam_resolution = dm.get_camera_resolution(cam_label)\n",
    "print(json.dumps(cam_resolution, indent=2))\n",
    "\n",
    "# settings = dm.get_settings(cam_label)\n",
    "# print(json.dumps(settings, indent=2))"
   ]
  },
  {
   "cell_type": "markdown",
   "metadata": {},
   "source": [
    "# display all of the 'JFSBP1_center_west-region_1-north_west' videos"
   ]
  },
  {
   "cell_type": "code",
   "execution_count": 18,
   "metadata": {},
   "outputs": [],
   "source": [
    "import subprocess"
   ]
  },
  {
   "cell_type": "code",
   "execution_count": 19,
   "metadata": {},
   "outputs": [],
   "source": [
    "already_seens = set()"
   ]
  },
  {
   "cell_type": "code",
   "execution_count": 22,
   "metadata": {},
   "outputs": [
    {
     "name": "stdout",
     "output_type": "stream",
     "text": [
      "/home/development/DATA/desktop/ffmpeg_recordings/2025-02-14-18-25-59_000004-1-JFSBP1_center_west.mp4\n",
      "\n",
      "/home/development/DATA/desktop/ffmpeg_recordings/2025-02-14-18-42-59_000004-1-JFSBP1_center_west.mp4\n",
      "\n",
      "/home/development/DATA/desktop/ffmpeg_recordings/2025-02-14-18-43-14_000004-1-JFSBP1_center_west.mp4\n",
      "\n",
      "/home/development/DATA/desktop/ffmpeg_recordings/2025-02-14-18-59-30_000004-1-JFSBP1_center_west.mp4\n",
      "\n",
      "/home/development/DATA/desktop/ffmpeg_recordings/2025-02-14-23-55-13_000004-1-JFSBP1_center_west.mp4\n",
      "\n",
      "/home/development/DATA/desktop/ffmpeg_recordings/2025-02-15-05-22-44_000004-1-JFSBP1_center_west.mp4\n",
      "\n",
      "/home/development/DATA/desktop/ffmpeg_recordings/2025-02-15-09-56-27_000004-1-JFSBP1_center_west.mp4\n",
      "\n",
      "/home/development/DATA/desktop/ffmpeg_recordings/2025-02-15-11-04-14_000004-1-JFSBP1_center_west.mp4\n",
      "\n",
      "/home/development/DATA/desktop/ffmpeg_recordings/2025-02-15-11-08-14_000004-1-JFSBP1_center_west.mp4\n",
      "\n",
      "/home/development/DATA/desktop/ffmpeg_recordings/2025-02-15-12-10-42_000004-1-JFSBP1_center_west.mp4\n",
      "\n",
      "/home/development/DATA/desktop/ffmpeg_recordings/2025-02-15-12-14-13_000004-1-JFSBP1_center_west.mp4\n",
      "\n",
      "/home/development/DATA/desktop/ffmpeg_recordings/2025-02-15-12-23-42_000004-1-JFSBP1_center_west.mp4\n",
      "\n",
      "/home/development/DATA/desktop/ffmpeg_recordings/2025-02-15-14-14-12_000004-1-JFSBP1_center_west.mp4\n",
      "\n",
      "/home/development/DATA/desktop/ffmpeg_recordings/2025-02-15-14-27-43_000004-1-JFSBP1_center_west.mp4\n",
      "\n",
      "/home/development/DATA/desktop/ffmpeg_recordings/2025-02-15-15-01-57_000004-1-JFSBP1_center_west.mp4\n",
      "\n",
      "/home/development/DATA/desktop/ffmpeg_recordings/2025-02-15-15-19-11_000004-1-JFSBP1_center_west.mp4\n",
      "\n",
      "/home/development/DATA/desktop/ffmpeg_recordings/2025-02-15-15-28-11_000004-1-JFSBP1_center_west.mp4\n",
      "\n",
      "/home/development/DATA/desktop/ffmpeg_recordings/2025-02-15-16-29-27_000004-1-JFSBP1_center_west.mp4\n",
      "\n",
      "/home/development/DATA/desktop/ffmpeg_recordings/2025-02-15-16-52-58_000004-1-JFSBP1_center_west.mp4\n",
      "\n",
      "/home/development/DATA/desktop/ffmpeg_recordings/2025-02-15-16-58-41_000004-1-JFSBP1_center_west.mp4\n",
      "\n",
      "/home/development/DATA/desktop/ffmpeg_recordings/2025-02-15-17-06-41_000004-1-JFSBP1_center_west.mp4\n",
      "\n",
      "/home/development/DATA/desktop/ffmpeg_recordings/2025-02-15-19-07-12_000004-1-JFSBP1_center_west.mp4\n",
      "\n",
      "/home/development/DATA/desktop/ffmpeg_recordings/2025-02-15-19-07-26_000004-1-JFSBP1_center_west.mp4\n",
      "\n",
      "/home/development/DATA/desktop/ffmpeg_recordings/2025-02-15-19-24-55_000004-1-JFSBP1_center_west.mp4\n",
      "\n",
      "/home/development/DATA/desktop/ffmpeg_recordings/2025-02-15-19-43-27_000004-1-JFSBP1_center_west.mp4\n",
      "\n",
      "/home/development/DATA/desktop/ffmpeg_recordings/2025-02-15-19-55-56_000004-1-JFSBP1_center_west.mp4\n",
      "\n",
      "/home/development/DATA/desktop/ffmpeg_recordings/2025-02-15-20-07-27_000004-1-JFSBP1_center_west.mp4\n",
      "\n",
      "/home/development/DATA/desktop/ffmpeg_recordings/2025-02-15-20-21-27_000004-1-JFSBP1_center_west.mp4\n",
      "\n",
      "/home/development/DATA/desktop/ffmpeg_recordings/2025-02-15-21-14-44_000004-1-JFSBP1_center_west.mp4\n",
      "\n",
      "/home/development/DATA/desktop/ffmpeg_recordings/2025-02-15-21-25-46_000004-1-JFSBP1_center_west.mp4\n",
      "\n",
      "/home/development/DATA/desktop/ffmpeg_recordings/2025-02-16-00-08-30_000004-1-JFSBP1_center_west.mp4\n",
      "\n",
      "/home/development/DATA/desktop/ffmpeg_recordings/2025-02-16-07-58-00_000004-1-JFSBP1_center_west.mp4\n",
      "\n",
      "/home/development/DATA/desktop/ffmpeg_recordings/2025-02-16-08-54-43_000004-1-JFSBP1_center_west.mp4\n",
      "\n",
      "/home/development/DATA/desktop/ffmpeg_recordings/2025-02-16-09-05-29_000004-1-JFSBP1_center_west.mp4\n",
      "\n",
      "/home/development/DATA/desktop/ffmpeg_recordings/2025-02-16-09-07-43_000004-1-JFSBP1_center_west.mp4\n",
      "\n",
      "/home/development/DATA/desktop/ffmpeg_recordings/2025-02-16-10-19-29_000004-1-JFSBP1_center_west.mp4\n",
      "\n",
      "/home/development/DATA/desktop/ffmpeg_recordings/2025-02-16-10-22-29_000004-1-JFSBP1_center_west.mp4\n",
      "\n",
      "/home/development/DATA/desktop/ffmpeg_recordings/2025-02-16-10-42-30_000004-1-JFSBP1_center_west.mp4\n",
      "\n",
      "/home/development/DATA/desktop/ffmpeg_recordings/2025-02-16-11-00-30_000004-1-JFSBP1_center_west.mp4\n",
      "\n",
      "/home/development/DATA/desktop/ffmpeg_recordings/2025-02-16-11-01-30_000004-1-JFSBP1_center_west.mp4\n",
      "\n",
      "/home/development/DATA/desktop/ffmpeg_recordings/2025-02-16-11-18-30_000004-1-JFSBP1_center_west.mp4\n",
      "\n",
      "/home/development/DATA/desktop/ffmpeg_recordings/2025-02-16-11-22-13_000004-1-JFSBP1_center_west.mp4\n",
      "\n",
      "/home/development/DATA/desktop/ffmpeg_recordings/2025-02-16-11-26-44_000004-1-JFSBP1_center_west.mp4\n",
      "\n",
      "/home/development/DATA/desktop/ffmpeg_recordings/2025-02-16-11-50-13_000004-1-JFSBP1_center_west.mp4\n",
      "\n",
      "/home/development/DATA/desktop/ffmpeg_recordings/2025-02-16-11-52-44_000004-1-JFSBP1_center_west.mp4\n",
      "\n",
      "/home/development/DATA/desktop/ffmpeg_recordings/2025-02-16-12-01-44_000004-1-JFSBP1_center_west.mp4\n",
      "\n",
      "/home/development/DATA/desktop/ffmpeg_recordings/2025-02-16-12-02-27_000004-1-JFSBP1_center_west.mp4\n",
      "\n",
      "/home/development/DATA/desktop/ffmpeg_recordings/2025-02-16-12-06-13_000004-1-JFSBP1_center_west.mp4\n",
      "\n",
      "/home/development/DATA/desktop/ffmpeg_recordings/2025-02-16-12-14-44_000004-1-JFSBP1_center_west.mp4\n",
      "\n",
      "/home/development/DATA/desktop/ffmpeg_recordings/2025-02-16-12-14-59_000004-1-JFSBP1_center_west.mp4\n",
      "\n",
      "/home/development/DATA/desktop/ffmpeg_recordings/2025-02-16-12-40-29_000004-1-JFSBP1_center_west.mp4\n",
      "\n",
      "/home/development/DATA/desktop/ffmpeg_recordings/2025-02-16-12-47-13_000004-1-JFSBP1_center_west.mp4\n",
      "\n",
      "/home/development/DATA/desktop/ffmpeg_recordings/2025-02-16-12-54-13_000004-1-JFSBP1_center_west.mp4\n",
      "\n",
      "/home/development/DATA/desktop/ffmpeg_recordings/2025-02-16-13-09-58_000004-1-JFSBP1_center_west.mp4\n",
      "\n",
      "/home/development/DATA/desktop/ffmpeg_recordings/2025-02-16-14-17-14_000004-1-JFSBP1_center_west.mp4\n",
      "\n",
      "/home/development/DATA/desktop/ffmpeg_recordings/2025-02-16-14-20-59_000004-1-JFSBP1_center_west.mp4\n",
      "\n",
      "/home/development/DATA/desktop/ffmpeg_recordings/2025-02-16-14-28-13_000004-1-JFSBP1_center_west.mp4\n",
      "\n",
      "/home/development/DATA/desktop/ffmpeg_recordings/2025-02-16-20-54-30_000004-1-JFSBP1_center_west.mp4\n",
      "\n",
      "/home/development/DATA/desktop/ffmpeg_recordings/2025-02-16-23-42-31_000004-1-JFSBP1_center_west.mp4\n",
      "\n",
      "/home/development/DATA/desktop/ffmpeg_recordings/2025-02-17-08-20-44_000004-1-JFSBP1_center_west.mp4\n",
      "\n",
      "/home/development/DATA/desktop/ffmpeg_recordings/2025-02-17-08-28-13_000004-1-JFSBP1_center_west.mp4\n",
      "\n"
     ]
    }
   ],
   "source": [
    "zoneID = \"JFSBP1_center_west-region_1-north_west\"\n",
    "\n",
    "info_df_filtered = info_df[info_df['which_parking_zone'] == zoneID].copy()\n",
    "video_paths = info_df_filtered['video_path'].values\n",
    "to_see_vids = [v for v in video_paths if v not in already_seens]\n",
    "\n",
    "for video_path in to_see_vids:\n",
    "    \n",
    "    print(video_path)\n",
    "    print()\n",
    "    \n",
    "    while True:\n",
    "        subprocess.run([\"mpv\", video_path], stdout=subprocess.DEVNULL, stderr=subprocess.DEVNULL)\n",
    "        response = input(\"Watch again [y/n]? \").strip().lower()\n",
    "        if 'y' in response:\n",
    "            continue\n",
    "        else:\n",
    "            break\n",
    "        \n",
    "    already_seens.add(video_path)\n"
   ]
  }
 ],
 "metadata": {
  "kernelspec": {
   "display_name": "spot",
   "language": "python",
   "name": "python3"
  },
  "language_info": {
   "codemirror_mode": {
    "name": "ipython",
    "version": 3
   },
   "file_extension": ".py",
   "mimetype": "text/x-python",
   "name": "python",
   "nbconvert_exporter": "python",
   "pygments_lexer": "ipython3",
   "version": "3.10.14"
  }
 },
 "nbformat": 4,
 "nbformat_minor": 2
}
