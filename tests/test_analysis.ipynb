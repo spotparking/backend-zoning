{
 "cells": [
  {
   "cell_type": "code",
   "execution_count": 1,
   "metadata": {},
   "outputs": [
    {
     "name": "stdout",
     "output_type": "stream",
     "text": [
      "/home/development/SPOT/backend-zoning\n"
     ]
    }
   ],
   "source": [
    "import os\n",
    "os.chdir(\"..\")\n",
    "import sys\n",
    "sys.path.append(os.getcwd())\n",
    "print(os.getcwd())"
   ]
  },
  {
   "cell_type": "code",
   "execution_count": 10,
   "metadata": {},
   "outputs": [],
   "source": [
    "# third party imports\n",
    "import matplotlib.pyplot as plt\n",
    "import pandas as pd\n",
    "import numpy as np\n",
    "from jeffutils.analytics import set_np_pd_display_params\n",
    "set_np_pd_display_params(np, pd)"
   ]
  },
  {
   "cell_type": "markdown",
   "metadata": {},
   "source": [
    "# load all of the results for a specific model_label"
   ]
  },
  {
   "cell_type": "code",
   "execution_count": 11,
   "metadata": {},
   "outputs": [],
   "source": [
    "model_label = \"256hist_center_kandzerocenters\"\n",
    "model_label = \"8hist_center_kandzerocenters\"\n",
    "model_label = \"8hist_centerlastfirst_kandzerocenters\"\n",
    "model_directory = f\"tests/results/{model_label}/\"\n",
    "dfs = []\n",
    "for directory in os.listdir(model_directory):\n",
    "    zoneID = directory\n",
    "    directory = os.path.join(model_directory, directory)\n",
    "    df = pd.concat([\n",
    "        pd.read_csv(os.path.join(directory, f))\n",
    "        for f in os.listdir(directory)\n",
    "        if f.endswith(\".csv\")\n",
    "    ]).reset_index(drop=True)\n",
    "    df[\"zoneID\"] = zoneID\n",
    "    dfs.append(df)\n",
    "full_results_df = pd.concat(dfs).reset_index(drop=True)"
   ]
  },
  {
   "cell_type": "markdown",
   "metadata": {},
   "source": [
    "# load and display the accuracy tables"
   ]
  },
  {
   "cell_type": "code",
   "execution_count": 12,
   "metadata": {},
   "outputs": [
    {
     "data": {
      "application/vnd.microsoft.datawrangler.viewer.v0+json": {
       "columns": [
        {
         "name": "index",
         "rawType": "int64",
         "type": "integer"
        },
        {
         "name": "zoneID",
         "rawType": "object",
         "type": "string"
        },
        {
         "name": "zone_size",
         "rawType": "int64",
         "type": "integer"
        },
        {
         "name": "k",
         "rawType": "int64",
         "type": "integer"
        },
        {
         "name": "pair_index",
         "rawType": "int64",
         "type": "integer"
        },
        {
         "name": "accuracy",
         "rawType": "float64",
         "type": "float"
        }
       ],
       "conversionMethod": "pd.DataFrame",
       "ref": "62dd5cb0-1d5c-4215-bf34-98a442f636d8",
       "rows": [
        [
         "140",
         "JFSBP1_center_east-region_1-south_east",
         "11",
         "5",
         "4",
         "1.0"
        ],
        [
         "161",
         "JFSBP1_center_east-region_1-south_east",
         "11",
         "8",
         "1",
         "1.0"
        ],
        [
         "164",
         "JFSBP1_center_east-region_1-south_east",
         "11",
         "8",
         "4",
         "1.0"
        ],
        [
         "76",
         "JFSBP1_center_east-region_1-south_east",
         "9",
         "4",
         "4",
         "1.0"
        ],
        [
         "169",
         "JFSBP1_center_east-region_1-south_east",
         "11",
         "9",
         "1",
         "1.0"
        ],
        [
         "171",
         "JFSBP1_center_east-region_1-south_east",
         "11",
         "9",
         "3",
         "1.0"
        ],
        [
         "73",
         "JFSBP1_center_east-region_1-south_east",
         "9",
         "4",
         "1",
         "1.0"
        ],
        [
         "172",
         "JFSBP1_center_east-region_1-south_east",
         "11",
         "9",
         "4",
         "1.0"
        ],
        [
         "177",
         "JFSBP1_center_east-region_1-south_east",
         "11",
         "10",
         "1",
         "1.0"
        ],
        [
         "179",
         "JFSBP1_center_east-region_1-south_east",
         "11",
         "10",
         "3",
         "1.0"
        ],
        [
         "68",
         "JFSBP1_center_east-region_1-south_east",
         "9",
         "3",
         "4",
         "1.0"
        ],
        [
         "180",
         "JFSBP1_center_east-region_1-south_east",
         "11",
         "10",
         "4",
         "1.0"
        ],
        [
         "65",
         "JFSBP1_center_east-region_1-south_east",
         "9",
         "3",
         "1",
         "1.0"
        ],
        [
         "185",
         "JFSBP1_center_east-region_1-south_east",
         "11",
         "11",
         "1",
         "1.0"
        ],
        [
         "187",
         "JFSBP1_center_east-region_1-south_east",
         "11",
         "11",
         "3",
         "1.0"
        ],
        [
         "61",
         "JFSBP1_center_east-region_1-south_east",
         "7",
         "7",
         "5",
         "1.0"
        ],
        [
         "189",
         "JFSBP1_center_east-region_1-south_east",
         "11",
         "11",
         "5",
         "1.0"
        ],
        [
         "59",
         "JFSBP1_center_east-region_1-south_east",
         "7",
         "7",
         "3",
         "1.0"
        ],
        [
         "192",
         "JFSBP1_center_east-region_1-south_east",
         "13",
         "3",
         "0",
         "1.0"
        ],
        [
         "57",
         "JFSBP1_center_east-region_1-south_east",
         "7",
         "7",
         "1",
         "1.0"
        ],
        [
         "193",
         "JFSBP1_center_east-region_1-south_east",
         "13",
         "3",
         "1",
         "1.0"
        ],
        [
         "196",
         "JFSBP1_center_east-region_1-south_east",
         "13",
         "3",
         "4",
         "1.0"
        ],
        [
         "52",
         "JFSBP1_center_east-region_1-south_east",
         "7",
         "6",
         "4",
         "1.0"
        ],
        [
         "163",
         "JFSBP1_center_east-region_1-south_east",
         "11",
         "8",
         "3",
         "1.0"
        ],
        [
         "156",
         "JFSBP1_center_east-region_1-south_east",
         "11",
         "7",
         "4",
         "1.0"
        ],
        [
         "201",
         "JFSBP1_center_east-region_1-south_east",
         "13",
         "4",
         "1",
         "1.0"
        ],
        [
         "81",
         "JFSBP1_center_east-region_1-south_east",
         "9",
         "5",
         "1",
         "1.0"
        ],
        [
         "107",
         "JFSBP1_center_east-region_1-south_east",
         "9",
         "8",
         "3",
         "1.0"
        ],
        [
         "113",
         "JFSBP1_center_east-region_1-south_east",
         "9",
         "9",
         "1",
         "1.0"
        ],
        [
         "105",
         "JFSBP1_center_east-region_1-south_east",
         "9",
         "8",
         "1",
         "1.0"
        ],
        [
         "115",
         "JFSBP1_center_east-region_1-south_east",
         "9",
         "9",
         "3",
         "1.0"
        ],
        [
         "117",
         "JFSBP1_center_east-region_1-south_east",
         "9",
         "9",
         "5",
         "1.0"
        ],
        [
         "100",
         "JFSBP1_center_east-region_1-south_east",
         "9",
         "7",
         "4",
         "1.0"
        ],
        [
         "99",
         "JFSBP1_center_east-region_1-south_east",
         "9",
         "7",
         "3",
         "1.0"
        ],
        [
         "121",
         "JFSBP1_center_east-region_1-south_east",
         "11",
         "3",
         "1",
         "1.0"
        ],
        [
         "97",
         "JFSBP1_center_east-region_1-south_east",
         "9",
         "7",
         "1",
         "1.0"
        ],
        [
         "124",
         "JFSBP1_center_east-region_1-south_east",
         "11",
         "3",
         "4",
         "1.0"
        ],
        [
         "129",
         "JFSBP1_center_east-region_1-south_east",
         "11",
         "4",
         "1",
         "1.0"
        ],
        [
         "132",
         "JFSBP1_center_east-region_1-south_east",
         "11",
         "4",
         "4",
         "1.0"
        ],
        [
         "137",
         "JFSBP1_center_east-region_1-south_east",
         "11",
         "5",
         "1",
         "1.0"
        ],
        [
         "92",
         "JFSBP1_center_east-region_1-south_east",
         "9",
         "6",
         "4",
         "1.0"
        ],
        [
         "1",
         "JFSBP1_center_east-region_1-south_east",
         "5",
         "3",
         "1",
         "1.0"
        ],
        [
         "89",
         "JFSBP1_center_east-region_1-south_east",
         "9",
         "6",
         "1",
         "1.0"
        ],
        [
         "145",
         "JFSBP1_center_east-region_1-south_east",
         "11",
         "6",
         "1",
         "1.0"
        ],
        [
         "148",
         "JFSBP1_center_east-region_1-south_east",
         "11",
         "6",
         "4",
         "1.0"
        ],
        [
         "153",
         "JFSBP1_center_east-region_1-south_east",
         "11",
         "7",
         "1",
         "1.0"
        ],
        [
         "84",
         "JFSBP1_center_east-region_1-south_east",
         "9",
         "5",
         "4",
         "1.0"
        ],
        [
         "155",
         "JFSBP1_center_east-region_1-south_east",
         "11",
         "7",
         "3",
         "1.0"
        ],
        [
         "51",
         "JFSBP1_center_east-region_1-south_east",
         "7",
         "6",
         "3",
         "1.0"
        ],
        [
         "108",
         "JFSBP1_center_east-region_1-south_east",
         "9",
         "8",
         "4",
         "1.0"
        ]
       ],
       "shape": {
        "columns": 5,
        "rows": 280
       }
      },
      "text/html": [
       "<div>\n",
       "<style scoped>\n",
       "    .dataframe tbody tr th:only-of-type {\n",
       "        vertical-align: middle;\n",
       "    }\n",
       "\n",
       "    .dataframe tbody tr th {\n",
       "        vertical-align: top;\n",
       "    }\n",
       "\n",
       "    .dataframe thead th {\n",
       "        text-align: right;\n",
       "    }\n",
       "</style>\n",
       "<table border=\"1\" class=\"dataframe\">\n",
       "  <thead>\n",
       "    <tr style=\"text-align: right;\">\n",
       "      <th></th>\n",
       "      <th>zoneID</th>\n",
       "      <th>zone_size</th>\n",
       "      <th>k</th>\n",
       "      <th>pair_index</th>\n",
       "      <th>accuracy</th>\n",
       "    </tr>\n",
       "  </thead>\n",
       "  <tbody>\n",
       "    <tr>\n",
       "      <th>140</th>\n",
       "      <td>JFSBP1_center_east-region_1-south_east</td>\n",
       "      <td>11</td>\n",
       "      <td>5</td>\n",
       "      <td>4</td>\n",
       "      <td>1.0000000</td>\n",
       "    </tr>\n",
       "    <tr>\n",
       "      <th>161</th>\n",
       "      <td>JFSBP1_center_east-region_1-south_east</td>\n",
       "      <td>11</td>\n",
       "      <td>8</td>\n",
       "      <td>1</td>\n",
       "      <td>1.0000000</td>\n",
       "    </tr>\n",
       "    <tr>\n",
       "      <th>164</th>\n",
       "      <td>JFSBP1_center_east-region_1-south_east</td>\n",
       "      <td>11</td>\n",
       "      <td>8</td>\n",
       "      <td>4</td>\n",
       "      <td>1.0000000</td>\n",
       "    </tr>\n",
       "    <tr>\n",
       "      <th>76</th>\n",
       "      <td>JFSBP1_center_east-region_1-south_east</td>\n",
       "      <td>9</td>\n",
       "      <td>4</td>\n",
       "      <td>4</td>\n",
       "      <td>1.0000000</td>\n",
       "    </tr>\n",
       "    <tr>\n",
       "      <th>169</th>\n",
       "      <td>JFSBP1_center_east-region_1-south_east</td>\n",
       "      <td>11</td>\n",
       "      <td>9</td>\n",
       "      <td>1</td>\n",
       "      <td>1.0000000</td>\n",
       "    </tr>\n",
       "    <tr>\n",
       "      <th>...</th>\n",
       "      <td>...</td>\n",
       "      <td>...</td>\n",
       "      <td>...</td>\n",
       "      <td>...</td>\n",
       "      <td>...</td>\n",
       "    </tr>\n",
       "    <tr>\n",
       "      <th>167</th>\n",
       "      <td>JFSBP1_center_east-region_1-south_east</td>\n",
       "      <td>11</td>\n",
       "      <td>8</td>\n",
       "      <td>7</td>\n",
       "      <td>0.0000000</td>\n",
       "    </tr>\n",
       "    <tr>\n",
       "      <th>166</th>\n",
       "      <td>JFSBP1_center_east-region_1-south_east</td>\n",
       "      <td>11</td>\n",
       "      <td>8</td>\n",
       "      <td>6</td>\n",
       "      <td>0.0000000</td>\n",
       "    </tr>\n",
       "    <tr>\n",
       "      <th>77</th>\n",
       "      <td>JFSBP1_center_east-region_1-south_east</td>\n",
       "      <td>9</td>\n",
       "      <td>4</td>\n",
       "      <td>5</td>\n",
       "      <td>0.0000000</td>\n",
       "    </tr>\n",
       "    <tr>\n",
       "      <th>78</th>\n",
       "      <td>JFSBP1_center_east-region_1-south_east</td>\n",
       "      <td>9</td>\n",
       "      <td>4</td>\n",
       "      <td>6</td>\n",
       "      <td>0.0000000</td>\n",
       "    </tr>\n",
       "    <tr>\n",
       "      <th>279</th>\n",
       "      <td>JFSBP1_center_east-region_1-south_east</td>\n",
       "      <td>13</td>\n",
       "      <td>13</td>\n",
       "      <td>7</td>\n",
       "      <td>0.0000000</td>\n",
       "    </tr>\n",
       "  </tbody>\n",
       "</table>\n",
       "<p>280 rows × 5 columns</p>\n",
       "</div>"
      ],
      "text/plain": [
       "                                     zoneID  zone_size   k  pair_index  \\\n",
       "140  JFSBP1_center_east-region_1-south_east         11   5           4   \n",
       "161  JFSBP1_center_east-region_1-south_east         11   8           1   \n",
       "164  JFSBP1_center_east-region_1-south_east         11   8           4   \n",
       "76   JFSBP1_center_east-region_1-south_east          9   4           4   \n",
       "169  JFSBP1_center_east-region_1-south_east         11   9           1   \n",
       "..                                      ...        ...  ..         ...   \n",
       "167  JFSBP1_center_east-region_1-south_east         11   8           7   \n",
       "166  JFSBP1_center_east-region_1-south_east         11   8           6   \n",
       "77   JFSBP1_center_east-region_1-south_east          9   4           5   \n",
       "78   JFSBP1_center_east-region_1-south_east          9   4           6   \n",
       "279  JFSBP1_center_east-region_1-south_east         13  13           7   \n",
       "\n",
       "     accuracy  \n",
       "140 1.0000000  \n",
       "161 1.0000000  \n",
       "164 1.0000000  \n",
       "76  1.0000000  \n",
       "169 1.0000000  \n",
       "..        ...  \n",
       "167 0.0000000  \n",
       "166 0.0000000  \n",
       "77  0.0000000  \n",
       "78  0.0000000  \n",
       "279 0.0000000  \n",
       "\n",
       "[280 rows x 5 columns]"
      ]
     },
     "metadata": {},
     "output_type": "display_data"
    },
    {
     "data": {
      "application/vnd.microsoft.datawrangler.viewer.v0+json": {
       "columns": [
        {
         "name": "index",
         "rawType": "int64",
         "type": "integer"
        },
        {
         "name": "zoneID",
         "rawType": "object",
         "type": "string"
        },
        {
         "name": "accuracy",
         "rawType": "float64",
         "type": "float"
        }
       ],
       "conversionMethod": "pd.DataFrame",
       "ref": "b3e5fdd0-d548-48fd-9c90-27d14c3b2453",
       "rows": [
        [
         "0",
         "JFSBP1_center_east-region_1-south_east",
         "0.4253342508847818"
        ]
       ],
       "shape": {
        "columns": 2,
        "rows": 1
       }
      },
      "text/html": [
       "<div>\n",
       "<style scoped>\n",
       "    .dataframe tbody tr th:only-of-type {\n",
       "        vertical-align: middle;\n",
       "    }\n",
       "\n",
       "    .dataframe tbody tr th {\n",
       "        vertical-align: top;\n",
       "    }\n",
       "\n",
       "    .dataframe thead th {\n",
       "        text-align: right;\n",
       "    }\n",
       "</style>\n",
       "<table border=\"1\" class=\"dataframe\">\n",
       "  <thead>\n",
       "    <tr style=\"text-align: right;\">\n",
       "      <th></th>\n",
       "      <th>zoneID</th>\n",
       "      <th>accuracy</th>\n",
       "    </tr>\n",
       "  </thead>\n",
       "  <tbody>\n",
       "    <tr>\n",
       "      <th>0</th>\n",
       "      <td>JFSBP1_center_east-region_1-south_east</td>\n",
       "      <td>0.4253343</td>\n",
       "    </tr>\n",
       "  </tbody>\n",
       "</table>\n",
       "</div>"
      ],
      "text/plain": [
       "                                   zoneID  accuracy\n",
       "0  JFSBP1_center_east-region_1-south_east 0.4253343"
      ]
     },
     "metadata": {},
     "output_type": "display_data"
    },
    {
     "data": {
      "application/vnd.microsoft.datawrangler.viewer.v0+json": {
       "columns": [
        {
         "name": "index",
         "rawType": "int64",
         "type": "integer"
        },
        {
         "name": "pair_index",
         "rawType": "int64",
         "type": "integer"
        },
        {
         "name": "accuracy",
         "rawType": "float64",
         "type": "float"
        }
       ],
       "conversionMethod": "pd.DataFrame",
       "ref": "1770970b-aef1-42d8-856f-1006adc66e5f",
       "rows": [
        [
         "1",
         "1",
         "1.0"
        ],
        [
         "4",
         "4",
         "0.906409752261109"
        ],
        [
         "3",
         "3",
         "0.7601258356272119"
        ],
        [
         "5",
         "5",
         "0.42862760519071963"
        ],
        [
         "0",
         "0",
         "0.25796303578450647"
        ],
        [
         "2",
         "2",
         "0.03735745182854896"
        ],
        [
         "6",
         "6",
         "0.009044435705859222"
        ],
        [
         "7",
         "7",
         "0.0031458906802988595"
        ]
       ],
       "shape": {
        "columns": 2,
        "rows": 8
       }
      },
      "text/html": [
       "<div>\n",
       "<style scoped>\n",
       "    .dataframe tbody tr th:only-of-type {\n",
       "        vertical-align: middle;\n",
       "    }\n",
       "\n",
       "    .dataframe tbody tr th {\n",
       "        vertical-align: top;\n",
       "    }\n",
       "\n",
       "    .dataframe thead th {\n",
       "        text-align: right;\n",
       "    }\n",
       "</style>\n",
       "<table border=\"1\" class=\"dataframe\">\n",
       "  <thead>\n",
       "    <tr style=\"text-align: right;\">\n",
       "      <th></th>\n",
       "      <th>pair_index</th>\n",
       "      <th>accuracy</th>\n",
       "    </tr>\n",
       "  </thead>\n",
       "  <tbody>\n",
       "    <tr>\n",
       "      <th>1</th>\n",
       "      <td>1</td>\n",
       "      <td>1.0000000</td>\n",
       "    </tr>\n",
       "    <tr>\n",
       "      <th>4</th>\n",
       "      <td>4</td>\n",
       "      <td>0.9064098</td>\n",
       "    </tr>\n",
       "    <tr>\n",
       "      <th>3</th>\n",
       "      <td>3</td>\n",
       "      <td>0.7601258</td>\n",
       "    </tr>\n",
       "    <tr>\n",
       "      <th>5</th>\n",
       "      <td>5</td>\n",
       "      <td>0.4286276</td>\n",
       "    </tr>\n",
       "    <tr>\n",
       "      <th>0</th>\n",
       "      <td>0</td>\n",
       "      <td>0.2579630</td>\n",
       "    </tr>\n",
       "    <tr>\n",
       "      <th>2</th>\n",
       "      <td>2</td>\n",
       "      <td>0.0373575</td>\n",
       "    </tr>\n",
       "    <tr>\n",
       "      <th>6</th>\n",
       "      <td>6</td>\n",
       "      <td>0.0090444</td>\n",
       "    </tr>\n",
       "    <tr>\n",
       "      <th>7</th>\n",
       "      <td>7</td>\n",
       "      <td>0.0031459</td>\n",
       "    </tr>\n",
       "  </tbody>\n",
       "</table>\n",
       "</div>"
      ],
      "text/plain": [
       "   pair_index  accuracy\n",
       "1           1 1.0000000\n",
       "4           4 0.9064098\n",
       "3           3 0.7601258\n",
       "5           5 0.4286276\n",
       "0           0 0.2579630\n",
       "2           2 0.0373575\n",
       "6           6 0.0090444\n",
       "7           7 0.0031459"
      ]
     },
     "metadata": {},
     "output_type": "display_data"
    },
    {
     "data": {
      "application/vnd.microsoft.datawrangler.viewer.v0+json": {
       "columns": [
        {
         "name": "index",
         "rawType": "int64",
         "type": "integer"
        },
        {
         "name": "zone_size",
         "rawType": "int64",
         "type": "integer"
        },
        {
         "name": "accuracy",
         "rawType": "float64",
         "type": "float"
        },
        {
         "name": "random_acc",
         "rawType": "float64",
         "type": "float"
        },
        {
         "name": "better_than_random",
         "rawType": "bool",
         "type": "boolean"
        },
        {
         "name": "perc_better_than_random",
         "rawType": "float64",
         "type": "float"
        },
        {
         "name": "timesX_better_than_random",
         "rawType": "float64",
         "type": "float"
        }
       ],
       "conversionMethod": "pd.DataFrame",
       "ref": "011cf6af-1cfd-4358-a7b4-72bfda3ae2ac",
       "rows": [
        [
         "0",
         "5",
         "0.5066666666666667",
         "0.2",
         "True",
         "153.33333333333334",
         "2.533333333333333"
        ],
        [
         "1",
         "7",
         "0.4455",
         "0.14285714285714285",
         "True",
         "211.85",
         "3.1185"
        ],
        [
         "2",
         "9",
         "0.4139285714285714",
         "0.1111111111111111",
         "True",
         "272.5357142857143",
         "3.725357142857143"
        ],
        [
         "3",
         "11",
         "0.4013888888888889",
         "0.09090909090909091",
         "True",
         "341.5277777777777",
         "4.415277777777778"
        ],
        [
         "4",
         "13",
         "0.39073426573426573",
         "0.07692307692307693",
         "True",
         "407.95454545454544",
         "5.079545454545454"
        ]
       ],
       "shape": {
        "columns": 6,
        "rows": 5
       }
      },
      "text/html": [
       "<div>\n",
       "<style scoped>\n",
       "    .dataframe tbody tr th:only-of-type {\n",
       "        vertical-align: middle;\n",
       "    }\n",
       "\n",
       "    .dataframe tbody tr th {\n",
       "        vertical-align: top;\n",
       "    }\n",
       "\n",
       "    .dataframe thead th {\n",
       "        text-align: right;\n",
       "    }\n",
       "</style>\n",
       "<table border=\"1\" class=\"dataframe\">\n",
       "  <thead>\n",
       "    <tr style=\"text-align: right;\">\n",
       "      <th></th>\n",
       "      <th>zone_size</th>\n",
       "      <th>accuracy</th>\n",
       "      <th>random_acc</th>\n",
       "      <th>better_than_random</th>\n",
       "      <th>perc_better_than_random</th>\n",
       "      <th>timesX_better_than_random</th>\n",
       "    </tr>\n",
       "  </thead>\n",
       "  <tbody>\n",
       "    <tr>\n",
       "      <th>0</th>\n",
       "      <td>5</td>\n",
       "      <td>0.5066667</td>\n",
       "      <td>0.2000000</td>\n",
       "      <td>True</td>\n",
       "      <td>153.3333333</td>\n",
       "      <td>2.5333333</td>\n",
       "    </tr>\n",
       "    <tr>\n",
       "      <th>1</th>\n",
       "      <td>7</td>\n",
       "      <td>0.4455000</td>\n",
       "      <td>0.1428571</td>\n",
       "      <td>True</td>\n",
       "      <td>211.8500000</td>\n",
       "      <td>3.1185000</td>\n",
       "    </tr>\n",
       "    <tr>\n",
       "      <th>2</th>\n",
       "      <td>9</td>\n",
       "      <td>0.4139286</td>\n",
       "      <td>0.1111111</td>\n",
       "      <td>True</td>\n",
       "      <td>272.5357143</td>\n",
       "      <td>3.7253571</td>\n",
       "    </tr>\n",
       "    <tr>\n",
       "      <th>3</th>\n",
       "      <td>11</td>\n",
       "      <td>0.4013889</td>\n",
       "      <td>0.0909091</td>\n",
       "      <td>True</td>\n",
       "      <td>341.5277778</td>\n",
       "      <td>4.4152778</td>\n",
       "    </tr>\n",
       "    <tr>\n",
       "      <th>4</th>\n",
       "      <td>13</td>\n",
       "      <td>0.3907343</td>\n",
       "      <td>0.0769231</td>\n",
       "      <td>True</td>\n",
       "      <td>407.9545455</td>\n",
       "      <td>5.0795455</td>\n",
       "    </tr>\n",
       "  </tbody>\n",
       "</table>\n",
       "</div>"
      ],
      "text/plain": [
       "   zone_size  accuracy  random_acc  better_than_random  \\\n",
       "0          5 0.5066667   0.2000000                True   \n",
       "1          7 0.4455000   0.1428571                True   \n",
       "2          9 0.4139286   0.1111111                True   \n",
       "3         11 0.4013889   0.0909091                True   \n",
       "4         13 0.3907343   0.0769231                True   \n",
       "\n",
       "   perc_better_than_random  timesX_better_than_random  \n",
       "0              153.3333333                  2.5333333  \n",
       "1              211.8500000                  3.1185000  \n",
       "2              272.5357143                  3.7253571  \n",
       "3              341.5277778                  4.4152778  \n",
       "4              407.9545455                  5.0795455  "
      ]
     },
     "metadata": {},
     "output_type": "display_data"
    }
   ],
   "source": [
    "def get_accuracy_table(cols:list[str]|str):\n",
    "    acc_tab = (full_results_df\n",
    "        .groupby(by=cols)\n",
    "        ['is_match']\n",
    "        .mean()\n",
    "        .reset_index()\n",
    "        .sort_values(by='is_match', ascending=False).\n",
    "        rename(columns={'is_match': 'accuracy'}))\n",
    "    return acc_tab\n",
    "\n",
    "full_accuracy_table = get_accuracy_table(['zoneID', 'zone_size', 'k', 'pair_index'])\n",
    "zoneID_accuracy_table = get_accuracy_table('zoneID')\n",
    "zone_size_accuracy_table = get_accuracy_table('zone_size')\n",
    "pair_index_accuracy_table = get_accuracy_table('pair_index')\n",
    "\n",
    "zone_size_accuracy_table['random_acc'] = 1/zone_size_accuracy_table['zone_size']\n",
    "zone_size_accuracy_table['better_than_random'] = zone_size_accuracy_table['accuracy'] > zone_size_accuracy_table['random_acc']\n",
    "zone_size_accuracy_table['perc_better_than_random'] = (zone_size_accuracy_table['accuracy'] - zone_size_accuracy_table['random_acc']) / zone_size_accuracy_table['random_acc'] * 100\n",
    "zone_size_accuracy_table['timesX_better_than_random'] = zone_size_accuracy_table['accuracy'] / zone_size_accuracy_table['random_acc']\n",
    "\n",
    "display(full_accuracy_table)\n",
    "display(zoneID_accuracy_table)\n",
    "display(pair_index_accuracy_table)\n",
    "display(zone_size_accuracy_table)"
   ]
  },
  {
   "cell_type": "markdown",
   "metadata": {},
   "source": [
    "# display correlation and overall accuracy"
   ]
  },
  {
   "cell_type": "code",
   "execution_count": 13,
   "metadata": {},
   "outputs": [
    {
     "name": "stdout",
     "output_type": "stream",
     "text": [
      "Pearson correlation coefficient between 'zone_size' and 'accuracy': -0.06625235508942214\n",
      "Pearson correlation coefficient between 'k' and 'accuracy': 0.043395565105589486\n",
      "Overall accuracy: 0.4253342508847818\n"
     ]
    }
   ],
   "source": [
    "zone_size_corr = full_accuracy_table['zone_size'].corr(full_accuracy_table['accuracy'])\n",
    "print(f\"Pearson correlation coefficient between 'zone_size' and 'accuracy': {zone_size_corr}\")\n",
    "k_corr = full_accuracy_table['k'].corr(full_accuracy_table['accuracy'])\n",
    "print(f\"Pearson correlation coefficient between 'k' and 'accuracy': {k_corr}\")\n",
    "overall_accuracy = full_results_df['is_match'].mean()\n",
    "print(f\"Overall accuracy: {overall_accuracy}\")"
   ]
  },
  {
   "cell_type": "markdown",
   "metadata": {},
   "source": [
    "# display the spread of accuracies"
   ]
  },
  {
   "cell_type": "code",
   "execution_count": 14,
   "metadata": {},
   "outputs": [
    {
     "data": {
      "text/plain": [
       "count   294.0000000\n",
       "mean      0.4164314\n",
       "std       0.4531216\n",
       "min       0.0000000\n",
       "0%        0.0000000\n",
       "25%       0.0000000\n",
       "50%       0.1100000\n",
       "75%       1.0000000\n",
       "100%      1.0000000\n",
       "max       1.0000000\n",
       "dtype: float64"
      ]
     },
     "metadata": {},
     "output_type": "display_data"
    },
    {
     "data": {
      "image/png": "[encoded data removed]",
      "text/plain": [
       "<Figure size 640x480 with 1 Axes>"
      ]
     },
     "metadata": {},
     "output_type": "display_data"
    }
   ],
   "source": [
    "accuracies = np.concatenate([\n",
    "    full_accuracy_table['accuracy'].values,\n",
    "    zoneID_accuracy_table['accuracy'].values,\n",
    "    pair_index_accuracy_table['accuracy'].values,\n",
    "    zone_size_accuracy_table['accuracy'].values,\n",
    "])\n",
    "display(pd.Series(accuracies).describe(percentiles=[0.0, 0.25, 0.5, 0.75, 1.0]))\n",
    "\n",
    "plt.hist(accuracies, bins=20)\n",
    "plt.xlabel(\"Accuracy\")\n",
    "plt.ylabel(\"Frequency\")\n",
    "plt.title(\"Histogram of accuracies\")\n",
    "plt.show()"
   ]
  },
  {
   "cell_type": "markdown",
   "metadata": {},
   "source": [
    "# notes"
   ]
  },
  {
   "cell_type": "markdown",
   "metadata": {},
   "source": [
    "It appears that the accuracy is either 0 for all tests or 1.0 for all tests, so there must be a situation in the data that is causing this. Some of the enter/leave pairs just work and some don't"
   ]
  },
  {
   "cell_type": "markdown",
   "metadata": {},
   "source": [
    "**Changes analysis:**\n",
    "  * I changed the closest_k_points to always include the points that have a center of (0, 0) since this is what is returned by the get_center_pt function if the car didn't actually fully cross into the zone. This change increased the accuracy from ~18% to 35%\n",
    "  * I changed the Histogram bin size to 8, and the accuracy stayed at 35%, but the zone_size and k correlation dropped to having NO correlation at all, which is a VERY big win\n",
    "  * I changed the get_center_pt function to return the first point or last point instead of (0, 0) if it can't find the switch-over point, now accuracy is 42.5%"
   ]
  }
 ],
 "metadata": {
  "kernelspec": {
   "display_name": "spot",
   "language": "python",
   "name": "python3"
  },
  "language_info": {
   "codemirror_mode": {
    "name": "ipython",
    "version": 3
   },
   "file_extension": ".py",
   "mimetype": "text/x-python",
   "name": "python",
   "nbconvert_exporter": "python",
   "pygments_lexer": "ipython3",
   "version": "3.10.14"
  }
 },
 "nbformat": 4,
 "nbformat_minor": 2
}
