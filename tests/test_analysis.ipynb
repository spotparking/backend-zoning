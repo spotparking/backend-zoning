{
 "cells": [
  {
   "cell_type": "code",
   "execution_count": 1,
   "metadata": {},
   "outputs": [
    {
     "name": "stdout",
     "output_type": "stream",
     "text": [
      "/home/development/SPOT/backend-zoning\n"
     ]
    }
   ],
   "source": [
    "import os\n",
    "os.chdir(\"..\")\n",
    "import sys\n",
    "sys.path.append(os.getcwd())\n",
    "print(os.getcwd())"
   ]
  },
  {
   "cell_type": "code",
   "execution_count": 10,
   "metadata": {},
   "outputs": [],
   "source": [
    "# third party imports\n",
    "import matplotlib.pyplot as plt\n",
    "import pandas as pd\n",
    "import numpy as np\n",
    "from jeffutils.analytics import set_np_pd_display_params\n",
    "set_np_pd_display_params(np, pd)"
   ]
  },
  {
   "cell_type": "markdown",
   "metadata": {},
   "source": [
    "# load all of the results for a specific model_label"
   ]
  },
  {
   "cell_type": "code",
   "execution_count": 3,
   "metadata": {},
   "outputs": [],
   "source": [
    "model_label = \"256hist_center_kandzerocenters\"\n",
    "model_label = \"8hist_center_kandzerocenters\"\n",
    "model_directory = f\"tests/results/{model_label}/\"\n",
    "dfs = []\n",
    "for directory in os.listdir(model_directory):\n",
    "    zoneID = directory\n",
    "    directory = os.path.join(model_directory, directory)\n",
    "    df = pd.concat([\n",
    "        pd.read_csv(os.path.join(directory, f))\n",
    "        for f in os.listdir(directory)\n",
    "        if f.endswith(\".csv\")\n",
    "    ]).reset_index(drop=True)\n",
    "    df[\"zoneID\"] = zoneID\n",
    "    dfs.append(df)\n",
    "full_results_df = pd.concat(dfs).reset_index(drop=True)"
   ]
  },
  {
   "cell_type": "markdown",
   "metadata": {},
   "source": [
    "# load and display the accuracy tables"
   ]
  },
  {
   "cell_type": "code",
   "execution_count": 4,
   "metadata": {},
   "outputs": [
    {
     "data": {
      "application/vnd.microsoft.datawrangler.viewer.v0+json": {
       "columns": [
        {
         "name": "index",
         "rawType": "int64",
         "type": "integer"
        },
        {
         "name": "zoneID",
         "rawType": "object",
         "type": "string"
        },
        {
         "name": "zone_size",
         "rawType": "int64",
         "type": "integer"
        },
        {
         "name": "k",
         "rawType": "int64",
         "type": "integer"
        },
        {
         "name": "pair_index",
         "rawType": "int64",
         "type": "integer"
        },
        {
         "name": "accuracy",
         "rawType": "float64",
         "type": "float"
        }
       ],
       "conversionMethod": "pd.DataFrame",
       "ref": "7ae3576d-295b-4245-95c4-ba38c3210e8e",
       "rows": [
        [
         "140",
         "JFSBP1_center_east-region_1-south_east",
         "11",
         "5",
         "4",
         "1.0"
        ],
        [
         "156",
         "JFSBP1_center_east-region_1-south_east",
         "11",
         "7",
         "4",
         "1.0"
        ],
        [
         "69",
         "JFSBP1_center_east-region_1-south_east",
         "9",
         "3",
         "5",
         "1.0"
        ],
        [
         "68",
         "JFSBP1_center_east-region_1-south_east",
         "9",
         "3",
         "4",
         "1.0"
        ],
        [
         "164",
         "JFSBP1_center_east-region_1-south_east",
         "11",
         "8",
         "4",
         "1.0"
        ],
        [
         "165",
         "JFSBP1_center_east-region_1-south_east",
         "11",
         "8",
         "5",
         "1.0"
        ],
        [
         "171",
         "JFSBP1_center_east-region_1-south_east",
         "11",
         "9",
         "3",
         "1.0"
        ],
        [
         "173",
         "JFSBP1_center_east-region_1-south_east",
         "11",
         "9",
         "5",
         "1.0"
        ],
        [
         "61",
         "JFSBP1_center_east-region_1-south_east",
         "7",
         "7",
         "5",
         "1.0"
        ],
        [
         "59",
         "JFSBP1_center_east-region_1-south_east",
         "7",
         "7",
         "3",
         "1.0"
        ],
        [
         "179",
         "JFSBP1_center_east-region_1-south_east",
         "11",
         "10",
         "3",
         "1.0"
        ],
        [
         "57",
         "JFSBP1_center_east-region_1-south_east",
         "7",
         "7",
         "1",
         "1.0"
        ],
        [
         "181",
         "JFSBP1_center_east-region_1-south_east",
         "11",
         "10",
         "5",
         "1.0"
        ],
        [
         "185",
         "JFSBP1_center_east-region_1-south_east",
         "11",
         "11",
         "1",
         "1.0"
        ],
        [
         "187",
         "JFSBP1_center_east-region_1-south_east",
         "11",
         "11",
         "3",
         "1.0"
        ],
        [
         "53",
         "JFSBP1_center_east-region_1-south_east",
         "7",
         "6",
         "5",
         "1.0"
        ],
        [
         "189",
         "JFSBP1_center_east-region_1-south_east",
         "11",
         "11",
         "5",
         "1.0"
        ],
        [
         "197",
         "JFSBP1_center_east-region_1-south_east",
         "13",
         "3",
         "5",
         "1.0"
        ],
        [
         "204",
         "JFSBP1_center_east-region_1-south_east",
         "13",
         "4",
         "4",
         "1.0"
        ],
        [
         "157",
         "JFSBP1_center_east-region_1-south_east",
         "11",
         "7",
         "5",
         "1.0"
        ],
        [
         "149",
         "JFSBP1_center_east-region_1-south_east",
         "11",
         "6",
         "5",
         "1.0"
        ],
        [
         "205",
         "JFSBP1_center_east-region_1-south_east",
         "13",
         "4",
         "5",
         "1.0"
        ],
        [
         "148",
         "JFSBP1_center_east-region_1-south_east",
         "11",
         "6",
         "4",
         "1.0"
        ],
        [
         "101",
         "JFSBP1_center_east-region_1-south_east",
         "9",
         "7",
         "5",
         "1.0"
        ],
        [
         "93",
         "JFSBP1_center_east-region_1-south_east",
         "9",
         "6",
         "5",
         "1.0"
        ],
        [
         "92",
         "JFSBP1_center_east-region_1-south_east",
         "9",
         "6",
         "4",
         "1.0"
        ],
        [
         "107",
         "JFSBP1_center_east-region_1-south_east",
         "9",
         "8",
         "3",
         "1.0"
        ],
        [
         "109",
         "JFSBP1_center_east-region_1-south_east",
         "9",
         "8",
         "5",
         "1.0"
        ],
        [
         "113",
         "JFSBP1_center_east-region_1-south_east",
         "9",
         "9",
         "1",
         "1.0"
        ],
        [
         "115",
         "JFSBP1_center_east-region_1-south_east",
         "9",
         "9",
         "3",
         "1.0"
        ],
        [
         "85",
         "JFSBP1_center_east-region_1-south_east",
         "9",
         "5",
         "5",
         "1.0"
        ],
        [
         "84",
         "JFSBP1_center_east-region_1-south_east",
         "9",
         "5",
         "4",
         "1.0"
        ],
        [
         "117",
         "JFSBP1_center_east-region_1-south_east",
         "9",
         "9",
         "5",
         "1.0"
        ],
        [
         "124",
         "JFSBP1_center_east-region_1-south_east",
         "11",
         "3",
         "4",
         "1.0"
        ],
        [
         "125",
         "JFSBP1_center_east-region_1-south_east",
         "11",
         "3",
         "5",
         "1.0"
        ],
        [
         "132",
         "JFSBP1_center_east-region_1-south_east",
         "11",
         "4",
         "4",
         "1.0"
        ],
        [
         "133",
         "JFSBP1_center_east-region_1-south_east",
         "11",
         "4",
         "5",
         "1.0"
        ],
        [
         "141",
         "JFSBP1_center_east-region_1-south_east",
         "11",
         "5",
         "5",
         "1.0"
        ],
        [
         "77",
         "JFSBP1_center_east-region_1-south_east",
         "9",
         "4",
         "5",
         "1.0"
        ],
        [
         "76",
         "JFSBP1_center_east-region_1-south_east",
         "9",
         "4",
         "4",
         "1.0"
        ],
        [
         "45",
         "JFSBP1_center_east-region_1-south_east",
         "7",
         "5",
         "5",
         "1.0"
        ],
        [
         "196",
         "JFSBP1_center_east-region_1-south_east",
         "13",
         "3",
         "4",
         "1.0"
        ],
        [
         "212",
         "JFSBP1_center_east-region_1-south_east",
         "13",
         "5",
         "4",
         "1.0"
        ],
        [
         "28",
         "JFSBP1_center_east-region_1-south_east",
         "7",
         "3",
         "4",
         "1.0"
        ],
        [
         "244",
         "JFSBP1_center_east-region_1-south_east",
         "13",
         "9",
         "4",
         "1.0"
        ],
        [
         "245",
         "JFSBP1_center_east-region_1-south_east",
         "13",
         "9",
         "5",
         "1.0"
        ],
        [
         "251",
         "JFSBP1_center_east-region_1-south_east",
         "13",
         "10",
         "3",
         "1.0"
        ],
        [
         "253",
         "JFSBP1_center_east-region_1-south_east",
         "13",
         "10",
         "5",
         "1.0"
        ],
        [
         "21",
         "JFSBP1_center_east-region_1-south_east",
         "5",
         "5",
         "5",
         "1.0"
        ],
        [
         "19",
         "JFSBP1_center_east-region_1-south_east",
         "5",
         "5",
         "3",
         "1.0"
        ]
       ],
       "shape": {
        "columns": 5,
        "rows": 280
       }
      },
      "text/html": [
       "<div>\n",
       "<style scoped>\n",
       "    .dataframe tbody tr th:only-of-type {\n",
       "        vertical-align: middle;\n",
       "    }\n",
       "\n",
       "    .dataframe tbody tr th {\n",
       "        vertical-align: top;\n",
       "    }\n",
       "\n",
       "    .dataframe thead th {\n",
       "        text-align: right;\n",
       "    }\n",
       "</style>\n",
       "<table border=\"1\" class=\"dataframe\">\n",
       "  <thead>\n",
       "    <tr style=\"text-align: right;\">\n",
       "      <th></th>\n",
       "      <th>zoneID</th>\n",
       "      <th>zone_size</th>\n",
       "      <th>k</th>\n",
       "      <th>pair_index</th>\n",
       "      <th>accuracy</th>\n",
       "    </tr>\n",
       "  </thead>\n",
       "  <tbody>\n",
       "    <tr>\n",
       "      <th>140</th>\n",
       "      <td>JFSBP1_center_east-region_1-south_east</td>\n",
       "      <td>11</td>\n",
       "      <td>5</td>\n",
       "      <td>4</td>\n",
       "      <td>1.0000000</td>\n",
       "    </tr>\n",
       "    <tr>\n",
       "      <th>156</th>\n",
       "      <td>JFSBP1_center_east-region_1-south_east</td>\n",
       "      <td>11</td>\n",
       "      <td>7</td>\n",
       "      <td>4</td>\n",
       "      <td>1.0000000</td>\n",
       "    </tr>\n",
       "    <tr>\n",
       "      <th>69</th>\n",
       "      <td>JFSBP1_center_east-region_1-south_east</td>\n",
       "      <td>9</td>\n",
       "      <td>3</td>\n",
       "      <td>5</td>\n",
       "      <td>1.0000000</td>\n",
       "    </tr>\n",
       "    <tr>\n",
       "      <th>68</th>\n",
       "      <td>JFSBP1_center_east-region_1-south_east</td>\n",
       "      <td>9</td>\n",
       "      <td>3</td>\n",
       "      <td>4</td>\n",
       "      <td>1.0000000</td>\n",
       "    </tr>\n",
       "    <tr>\n",
       "      <th>164</th>\n",
       "      <td>JFSBP1_center_east-region_1-south_east</td>\n",
       "      <td>11</td>\n",
       "      <td>8</td>\n",
       "      <td>4</td>\n",
       "      <td>1.0000000</td>\n",
       "    </tr>\n",
       "    <tr>\n",
       "      <th>...</th>\n",
       "      <td>...</td>\n",
       "      <td>...</td>\n",
       "      <td>...</td>\n",
       "      <td>...</td>\n",
       "      <td>...</td>\n",
       "    </tr>\n",
       "    <tr>\n",
       "      <th>65</th>\n",
       "      <td>JFSBP1_center_east-region_1-south_east</td>\n",
       "      <td>9</td>\n",
       "      <td>3</td>\n",
       "      <td>1</td>\n",
       "      <td>0.0000000</td>\n",
       "    </tr>\n",
       "    <tr>\n",
       "      <th>170</th>\n",
       "      <td>JFSBP1_center_east-region_1-south_east</td>\n",
       "      <td>11</td>\n",
       "      <td>9</td>\n",
       "      <td>2</td>\n",
       "      <td>0.0000000</td>\n",
       "    </tr>\n",
       "    <tr>\n",
       "      <th>63</th>\n",
       "      <td>JFSBP1_center_east-region_1-south_east</td>\n",
       "      <td>7</td>\n",
       "      <td>7</td>\n",
       "      <td>7</td>\n",
       "      <td>0.0000000</td>\n",
       "    </tr>\n",
       "    <tr>\n",
       "      <th>174</th>\n",
       "      <td>JFSBP1_center_east-region_1-south_east</td>\n",
       "      <td>11</td>\n",
       "      <td>9</td>\n",
       "      <td>6</td>\n",
       "      <td>0.0000000</td>\n",
       "    </tr>\n",
       "    <tr>\n",
       "      <th>279</th>\n",
       "      <td>JFSBP1_center_east-region_1-south_east</td>\n",
       "      <td>13</td>\n",
       "      <td>13</td>\n",
       "      <td>7</td>\n",
       "      <td>0.0000000</td>\n",
       "    </tr>\n",
       "  </tbody>\n",
       "</table>\n",
       "<p>280 rows × 5 columns</p>\n",
       "</div>"
      ],
      "text/plain": [
       "                                     zoneID  zone_size   k  pair_index  \\\n",
       "140  JFSBP1_center_east-region_1-south_east         11   5           4   \n",
       "156  JFSBP1_center_east-region_1-south_east         11   7           4   \n",
       "69   JFSBP1_center_east-region_1-south_east          9   3           5   \n",
       "68   JFSBP1_center_east-region_1-south_east          9   3           4   \n",
       "164  JFSBP1_center_east-region_1-south_east         11   8           4   \n",
       "..                                      ...        ...  ..         ...   \n",
       "65   JFSBP1_center_east-region_1-south_east          9   3           1   \n",
       "170  JFSBP1_center_east-region_1-south_east         11   9           2   \n",
       "63   JFSBP1_center_east-region_1-south_east          7   7           7   \n",
       "174  JFSBP1_center_east-region_1-south_east         11   9           6   \n",
       "279  JFSBP1_center_east-region_1-south_east         13  13           7   \n",
       "\n",
       "     accuracy  \n",
       "140 1.0000000  \n",
       "156 1.0000000  \n",
       "69  1.0000000  \n",
       "68  1.0000000  \n",
       "164 1.0000000  \n",
       "..        ...  \n",
       "65  0.0000000  \n",
       "170 0.0000000  \n",
       "63  0.0000000  \n",
       "174 0.0000000  \n",
       "279 0.0000000  \n",
       "\n",
       "[280 rows x 5 columns]"
      ]
     },
     "metadata": {},
     "output_type": "display_data"
    },
    {
     "data": {
      "application/vnd.microsoft.datawrangler.viewer.v0+json": {
       "columns": [
        {
         "name": "index",
         "rawType": "int64",
         "type": "integer"
        },
        {
         "name": "zoneID",
         "rawType": "object",
         "type": "string"
        },
        {
         "name": "accuracy",
         "rawType": "float64",
         "type": "float"
        }
       ],
       "conversionMethod": "pd.DataFrame",
       "ref": "e8d90891-f02e-4bbb-b2b3-e3c4371bc940",
       "rows": [
        [
         "0",
         "JFSBP1_center_east-region_1-south_east",
         "0.35656704679512385"
        ]
       ],
       "shape": {
        "columns": 2,
        "rows": 1
       }
      },
      "text/html": [
       "<div>\n",
       "<style scoped>\n",
       "    .dataframe tbody tr th:only-of-type {\n",
       "        vertical-align: middle;\n",
       "    }\n",
       "\n",
       "    .dataframe tbody tr th {\n",
       "        vertical-align: top;\n",
       "    }\n",
       "\n",
       "    .dataframe thead th {\n",
       "        text-align: right;\n",
       "    }\n",
       "</style>\n",
       "<table border=\"1\" class=\"dataframe\">\n",
       "  <thead>\n",
       "    <tr style=\"text-align: right;\">\n",
       "      <th></th>\n",
       "      <th>zoneID</th>\n",
       "      <th>accuracy</th>\n",
       "    </tr>\n",
       "  </thead>\n",
       "  <tbody>\n",
       "    <tr>\n",
       "      <th>0</th>\n",
       "      <td>JFSBP1_center_east-region_1-south_east</td>\n",
       "      <td>0.3565670</td>\n",
       "    </tr>\n",
       "  </tbody>\n",
       "</table>\n",
       "</div>"
      ],
      "text/plain": [
       "                                   zoneID  accuracy\n",
       "0  JFSBP1_center_east-region_1-south_east 0.3565670"
      ]
     },
     "metadata": {},
     "output_type": "display_data"
    },
    {
     "data": {
      "application/vnd.microsoft.datawrangler.viewer.v0+json": {
       "columns": [
        {
         "name": "index",
         "rawType": "int64",
         "type": "integer"
        },
        {
         "name": "pair_index",
         "rawType": "int64",
         "type": "integer"
        },
        {
         "name": "accuracy",
         "rawType": "float64",
         "type": "float"
        }
       ],
       "conversionMethod": "pd.DataFrame",
       "ref": "17ac866f-a336-49c3-baa7-6d9f17a1002e",
       "rows": [
        [
         "5",
         "5",
         "1.0"
        ],
        [
         "4",
         "4",
         "0.7707432166732207"
        ],
        [
         "3",
         "3",
         "0.6067636649626426"
        ],
        [
         "1",
         "1",
         "0.3456547384978372"
        ],
        [
         "0",
         "0",
         "0.1108926464805348"
        ],
        [
         "2",
         "2",
         "0.015729453401494297"
        ],
        [
         "7",
         "7",
         "0.0015729453401494297"
        ],
        [
         "6",
         "6",
         "0.0011797090051120724"
        ]
       ],
       "shape": {
        "columns": 2,
        "rows": 8
       }
      },
      "text/html": [
       "<div>\n",
       "<style scoped>\n",
       "    .dataframe tbody tr th:only-of-type {\n",
       "        vertical-align: middle;\n",
       "    }\n",
       "\n",
       "    .dataframe tbody tr th {\n",
       "        vertical-align: top;\n",
       "    }\n",
       "\n",
       "    .dataframe thead th {\n",
       "        text-align: right;\n",
       "    }\n",
       "</style>\n",
       "<table border=\"1\" class=\"dataframe\">\n",
       "  <thead>\n",
       "    <tr style=\"text-align: right;\">\n",
       "      <th></th>\n",
       "      <th>pair_index</th>\n",
       "      <th>accuracy</th>\n",
       "    </tr>\n",
       "  </thead>\n",
       "  <tbody>\n",
       "    <tr>\n",
       "      <th>5</th>\n",
       "      <td>5</td>\n",
       "      <td>1.0000000</td>\n",
       "    </tr>\n",
       "    <tr>\n",
       "      <th>4</th>\n",
       "      <td>4</td>\n",
       "      <td>0.7707432</td>\n",
       "    </tr>\n",
       "    <tr>\n",
       "      <th>3</th>\n",
       "      <td>3</td>\n",
       "      <td>0.6067637</td>\n",
       "    </tr>\n",
       "    <tr>\n",
       "      <th>1</th>\n",
       "      <td>1</td>\n",
       "      <td>0.3456547</td>\n",
       "    </tr>\n",
       "    <tr>\n",
       "      <th>0</th>\n",
       "      <td>0</td>\n",
       "      <td>0.1108926</td>\n",
       "    </tr>\n",
       "    <tr>\n",
       "      <th>2</th>\n",
       "      <td>2</td>\n",
       "      <td>0.0157295</td>\n",
       "    </tr>\n",
       "    <tr>\n",
       "      <th>7</th>\n",
       "      <td>7</td>\n",
       "      <td>0.0015729</td>\n",
       "    </tr>\n",
       "    <tr>\n",
       "      <th>6</th>\n",
       "      <td>6</td>\n",
       "      <td>0.0011797</td>\n",
       "    </tr>\n",
       "  </tbody>\n",
       "</table>\n",
       "</div>"
      ],
      "text/plain": [
       "   pair_index  accuracy\n",
       "5           5 1.0000000\n",
       "4           4 0.7707432\n",
       "3           3 0.6067637\n",
       "1           1 0.3456547\n",
       "0           0 0.1108926\n",
       "2           2 0.0157295\n",
       "7           7 0.0015729\n",
       "6           6 0.0011797"
      ]
     },
     "metadata": {},
     "output_type": "display_data"
    },
    {
     "data": {
      "application/vnd.microsoft.datawrangler.viewer.v0+json": {
       "columns": [
        {
         "name": "index",
         "rawType": "int64",
         "type": "integer"
        },
        {
         "name": "zone_size",
         "rawType": "int64",
         "type": "integer"
        },
        {
         "name": "accuracy",
         "rawType": "float64",
         "type": "float"
        },
        {
         "name": "random_acc",
         "rawType": "float64",
         "type": "float"
        },
        {
         "name": "better_than_random",
         "rawType": "bool",
         "type": "boolean"
        },
        {
         "name": "perc_better_than_random",
         "rawType": "float64",
         "type": "float"
        },
        {
         "name": "timesX_better_than_random",
         "rawType": "float64",
         "type": "float"
        }
       ],
       "conversionMethod": "pd.DataFrame",
       "ref": "20f655c8-ce61-4d24-9b22-c9aa4f20f2b2",
       "rows": [
        [
         "0",
         "5",
         "0.44333333333333336",
         "0.2",
         "True",
         "121.66666666666666",
         "2.216666666666667"
        ],
        [
         "1",
         "7",
         "0.3815",
         "0.14285714285714285",
         "True",
         "167.05",
         "2.6705"
        ],
        [
         "2",
         "9",
         "0.34875",
         "0.1111111111111111",
         "True",
         "213.87500000000003",
         "3.1387500000000004"
        ],
        [
         "3",
         "11",
         "0.32625",
         "0.09090909090909091",
         "True",
         "258.87499999999994",
         "3.5887499999999997"
        ],
        [
         "4",
         "13",
         "0.31643356643356646",
         "0.07692307692307693",
         "True",
         "311.3636363636364",
         "4.113636363636363"
        ]
       ],
       "shape": {
        "columns": 6,
        "rows": 5
       }
      },
      "text/html": [
       "<div>\n",
       "<style scoped>\n",
       "    .dataframe tbody tr th:only-of-type {\n",
       "        vertical-align: middle;\n",
       "    }\n",
       "\n",
       "    .dataframe tbody tr th {\n",
       "        vertical-align: top;\n",
       "    }\n",
       "\n",
       "    .dataframe thead th {\n",
       "        text-align: right;\n",
       "    }\n",
       "</style>\n",
       "<table border=\"1\" class=\"dataframe\">\n",
       "  <thead>\n",
       "    <tr style=\"text-align: right;\">\n",
       "      <th></th>\n",
       "      <th>zone_size</th>\n",
       "      <th>accuracy</th>\n",
       "      <th>random_acc</th>\n",
       "      <th>better_than_random</th>\n",
       "      <th>perc_better_than_random</th>\n",
       "      <th>timesX_better_than_random</th>\n",
       "    </tr>\n",
       "  </thead>\n",
       "  <tbody>\n",
       "    <tr>\n",
       "      <th>0</th>\n",
       "      <td>5</td>\n",
       "      <td>0.4433333</td>\n",
       "      <td>0.2000000</td>\n",
       "      <td>True</td>\n",
       "      <td>121.6666667</td>\n",
       "      <td>2.2166667</td>\n",
       "    </tr>\n",
       "    <tr>\n",
       "      <th>1</th>\n",
       "      <td>7</td>\n",
       "      <td>0.3815000</td>\n",
       "      <td>0.1428571</td>\n",
       "      <td>True</td>\n",
       "      <td>167.0500000</td>\n",
       "      <td>2.6705000</td>\n",
       "    </tr>\n",
       "    <tr>\n",
       "      <th>2</th>\n",
       "      <td>9</td>\n",
       "      <td>0.3487500</td>\n",
       "      <td>0.1111111</td>\n",
       "      <td>True</td>\n",
       "      <td>213.8750000</td>\n",
       "      <td>3.1387500</td>\n",
       "    </tr>\n",
       "    <tr>\n",
       "      <th>3</th>\n",
       "      <td>11</td>\n",
       "      <td>0.3262500</td>\n",
       "      <td>0.0909091</td>\n",
       "      <td>True</td>\n",
       "      <td>258.8750000</td>\n",
       "      <td>3.5887500</td>\n",
       "    </tr>\n",
       "    <tr>\n",
       "      <th>4</th>\n",
       "      <td>13</td>\n",
       "      <td>0.3164336</td>\n",
       "      <td>0.0769231</td>\n",
       "      <td>True</td>\n",
       "      <td>311.3636364</td>\n",
       "      <td>4.1136364</td>\n",
       "    </tr>\n",
       "  </tbody>\n",
       "</table>\n",
       "</div>"
      ],
      "text/plain": [
       "   zone_size  accuracy  random_acc  better_than_random  \\\n",
       "0          5 0.4433333   0.2000000                True   \n",
       "1          7 0.3815000   0.1428571                True   \n",
       "2          9 0.3487500   0.1111111                True   \n",
       "3         11 0.3262500   0.0909091                True   \n",
       "4         13 0.3164336   0.0769231                True   \n",
       "\n",
       "   perc_better_than_random  timesX_better_than_random  \n",
       "0              121.6666667                  2.2166667  \n",
       "1              167.0500000                  2.6705000  \n",
       "2              213.8750000                  3.1387500  \n",
       "3              258.8750000                  3.5887500  \n",
       "4              311.3636364                  4.1136364  "
      ]
     },
     "metadata": {},
     "output_type": "display_data"
    }
   ],
   "source": [
    "def get_accuracy_table(cols:list[str]|str):\n",
    "    acc_tab = (full_results_df\n",
    "        .groupby(by=cols)\n",
    "        ['is_match']\n",
    "        .mean()\n",
    "        .reset_index()\n",
    "        .sort_values(by='is_match', ascending=False).\n",
    "        rename(columns={'is_match': 'accuracy'}))\n",
    "    return acc_tab\n",
    "\n",
    "full_accuracy_table = get_accuracy_table(['zoneID', 'zone_size', 'k', 'pair_index'])\n",
    "zoneID_accuracy_table = get_accuracy_table('zoneID')\n",
    "zone_size_accuracy_table = get_accuracy_table('zone_size')\n",
    "pair_index_accuracy_table = get_accuracy_table('pair_index')\n",
    "\n",
    "zone_size_accuracy_table['random_acc'] = 1/zone_size_accuracy_table['zone_size']\n",
    "zone_size_accuracy_table['better_than_random'] = zone_size_accuracy_table['accuracy'] > zone_size_accuracy_table['random_acc']\n",
    "zone_size_accuracy_table['perc_better_than_random'] = (zone_size_accuracy_table['accuracy'] - zone_size_accuracy_table['random_acc']) / zone_size_accuracy_table['random_acc'] * 100\n",
    "zone_size_accuracy_table['timesX_better_than_random'] = zone_size_accuracy_table['accuracy'] / zone_size_accuracy_table['random_acc']\n",
    "\n",
    "display(full_accuracy_table)\n",
    "display(zoneID_accuracy_table)\n",
    "display(pair_index_accuracy_table)\n",
    "display(zone_size_accuracy_table)"
   ]
  },
  {
   "cell_type": "markdown",
   "metadata": {},
   "source": [
    "# display correlation and overall accuracy"
   ]
  },
  {
   "cell_type": "code",
   "execution_count": 9,
   "metadata": {},
   "outputs": [
    {
     "name": "stdout",
     "output_type": "stream",
     "text": [
      "Pearson correlation coefficient between 'zone_size' and 'accuracy': -0.07897021443042365\n",
      "Pearson correlation coefficient between 'k' and 'accuracy': 0.06813149214183732\n",
      "Overall accuracy: 0.35656704679512385\n"
     ]
    }
   ],
   "source": [
    "zone_size_corr = full_accuracy_table['zone_size'].corr(full_accuracy_table['accuracy'])\n",
    "print(f\"Pearson correlation coefficient between 'zone_size' and 'accuracy': {zone_size_corr}\")\n",
    "k_corr = full_accuracy_table['k'].corr(full_accuracy_table['accuracy'])\n",
    "print(f\"Pearson correlation coefficient between 'k' and 'accuracy': {k_corr}\")\n",
    "overall_accuracy = full_results_df['is_match'].mean()\n",
    "print(f\"Overall accuracy: {overall_accuracy}\")"
   ]
  },
  {
   "cell_type": "markdown",
   "metadata": {},
   "source": [
    "# display the spread of accuracies"
   ]
  },
  {
   "cell_type": "code",
   "execution_count": 8,
   "metadata": {},
   "outputs": [
    {
     "data": {
      "text/plain": [
       "count   294.0000000\n",
       "mean      0.3462297\n",
       "std       0.4366913\n",
       "min       0.0000000\n",
       "0%        0.0000000\n",
       "25%       0.0000000\n",
       "50%       0.0250000\n",
       "75%       0.9975000\n",
       "100%      1.0000000\n",
       "max       1.0000000\n",
       "dtype: float64"
      ]
     },
     "metadata": {},
     "output_type": "display_data"
    },
    {
     "data": {
      "image/png": "[encoded data removed]",
      "text/plain": [
       "<Figure size 640x480 with 1 Axes>"
      ]
     },
     "metadata": {},
     "output_type": "display_data"
    }
   ],
   "source": [
    "accuracies = np.concatenate([\n",
    "    full_accuracy_table['accuracy'].values,\n",
    "    zoneID_accuracy_table['accuracy'].values,\n",
    "    pair_index_accuracy_table['accuracy'].values,\n",
    "    zone_size_accuracy_table['accuracy'].values,\n",
    "])\n",
    "display(pd.Series(accuracies).describe(percentiles=[0.0, 0.25, 0.5, 0.75, 1.0]))\n",
    "\n",
    "plt.hist(accuracies, bins=20)\n",
    "plt.xlabel(\"Accuracy\")\n",
    "plt.ylabel(\"Frequency\")\n",
    "plt.title(\"Histogram of accuracies\")\n",
    "plt.show()"
   ]
  },
  {
   "cell_type": "markdown",
   "metadata": {},
   "source": [
    "# notes"
   ]
  },
  {
   "cell_type": "markdown",
   "metadata": {},
   "source": [
    "It appears that the accuracy is either 0 for all tests or 1.0 for all tests, so there must be a situation in the data that is causing this. Some of the enter/leave pairs just work and some don't"
   ]
  },
  {
   "cell_type": "markdown",
   "metadata": {},
   "source": [
    "**Changes analysis:**\n",
    "  * I changed the closest_k_points to always include the points that have a center of (0, 0) since this is what is returned by the get_center_pt function if the car didn't actually fully cross into the zone. This change increased the accuracy from ~18% to 35%\n",
    "  * I changed the Histogram bin size to 8, and the accuracy stayed at 35%, but the zone_size and k correlation dropped to having NO correlation at all, which is a VERY big win"
   ]
  }
 ],
 "metadata": {
  "kernelspec": {
   "display_name": "spot",
   "language": "python",
   "name": "python3"
  },
  "language_info": {
   "codemirror_mode": {
    "name": "ipython",
    "version": 3
   },
   "file_extension": ".py",
   "mimetype": "text/x-python",
   "name": "python",
   "nbconvert_exporter": "python",
   "pygments_lexer": "ipython3",
   "version": "3.10.14"
  }
 },
 "nbformat": 4,
 "nbformat_minor": 2
}
