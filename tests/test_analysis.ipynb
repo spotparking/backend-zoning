{
 "cells": [
  {
   "cell_type": "code",
   "execution_count": 1,
   "metadata": {},
   "outputs": [
    {
     "name": "stdout",
     "output_type": "stream",
     "text": [
      "/home/development/SPOT/backend-zoning\n"
     ]
    }
   ],
   "source": [
    "import os\n",
    "os.chdir(\"..\")\n",
    "import sys\n",
    "sys.path.append(os.getcwd())\n",
    "print(os.getcwd())"
   ]
  },
  {
   "cell_type": "code",
   "execution_count": 2,
   "metadata": {},
   "outputs": [],
   "source": [
    "# third party imports\n",
    "import matplotlib.pyplot as plt\n",
    "import pandas as pd\n",
    "import numpy as np\n",
    "from jeffutils.analytics import set_np_pd_display_params\n",
    "set_np_pd_display_params(np, pd)"
   ]
  },
  {
   "cell_type": "markdown",
   "metadata": {},
   "source": [
    "# load all of the results for a specific model_label"
   ]
  },
  {
   "cell_type": "code",
   "execution_count": 3,
   "metadata": {},
   "outputs": [],
   "source": [
    "model_label = \"256hist_center_kandzerocenters\"\n",
    "model_label = \"8hist_center_kandzerocenters\"\n",
    "model_label = \"8hist_centerlastfirst_kandzerocenters\"\n",
    "model_label = \"8histnormalized_centerlastfirst_kandzerocenters\"\n",
    "model_directory = f\"tests/results/{model_label}/\"\n",
    "dfs = []\n",
    "for directory in os.listdir(model_directory):\n",
    "    zoneID = directory\n",
    "    directory = os.path.join(model_directory, directory)\n",
    "    df = pd.concat([\n",
    "        pd.read_csv(os.path.join(directory, f))\n",
    "        for f in os.listdir(directory)\n",
    "        if f.endswith(\".csv\")\n",
    "    ]).reset_index(drop=True)\n",
    "    df[\"zoneID\"] = zoneID\n",
    "    dfs.append(df)\n",
    "full_results_df = pd.concat(dfs).reset_index(drop=True)"
   ]
  },
  {
   "cell_type": "markdown",
   "metadata": {},
   "source": [
    "# load and display the accuracy tables"
   ]
  },
  {
   "cell_type": "code",
   "execution_count": 4,
   "metadata": {},
   "outputs": [
    {
     "data": {
      "application/vnd.microsoft.datawrangler.viewer.v0+json": {
       "columns": [
        {
         "name": "index",
         "rawType": "int64",
         "type": "integer"
        },
        {
         "name": "zoneID",
         "rawType": "object",
         "type": "string"
        },
        {
         "name": "zone_size",
         "rawType": "int64",
         "type": "integer"
        },
        {
         "name": "k",
         "rawType": "int64",
         "type": "integer"
        },
        {
         "name": "pair_index",
         "rawType": "int64",
         "type": "integer"
        },
        {
         "name": "accuracy",
         "rawType": "float64",
         "type": "float"
        }
       ],
       "conversionMethod": "pd.DataFrame",
       "ref": "4ac5e3fc-750a-411a-8b69-c66a55a1c4e8",
       "rows": [
        [
         "189",
         "JFSBP1_center_east-region_1-south_east",
         "11",
         "11",
         "5",
         "1.0"
        ],
        [
         "51",
         "JFSBP1_center_east-region_1-south_east",
         "7",
         "6",
         "3",
         "1.0"
        ],
        [
         "193",
         "JFSBP1_center_east-region_1-south_east",
         "13",
         "3",
         "1",
         "1.0"
        ],
        [
         "192",
         "JFSBP1_center_east-region_1-south_east",
         "13",
         "3",
         "0",
         "1.0"
        ],
        [
         "73",
         "JFSBP1_center_east-region_1-south_east",
         "9",
         "4",
         "1",
         "1.0"
        ],
        [
         "187",
         "JFSBP1_center_east-region_1-south_east",
         "11",
         "11",
         "3",
         "1.0"
        ],
        [
         "181",
         "JFSBP1_center_east-region_1-south_east",
         "11",
         "10",
         "5",
         "1.0"
        ],
        [
         "72",
         "JFSBP1_center_east-region_1-south_east",
         "9",
         "4",
         "0",
         "1.0"
        ],
        [
         "179",
         "JFSBP1_center_east-region_1-south_east",
         "11",
         "10",
         "3",
         "1.0"
        ],
        [
         "171",
         "JFSBP1_center_east-region_1-south_east",
         "11",
         "9",
         "3",
         "1.0"
        ],
        [
         "163",
         "JFSBP1_center_east-region_1-south_east",
         "11",
         "8",
         "3",
         "1.0"
        ],
        [
         "161",
         "JFSBP1_center_east-region_1-south_east",
         "11",
         "8",
         "1",
         "1.0"
        ],
        [
         "155",
         "JFSBP1_center_east-region_1-south_east",
         "11",
         "7",
         "3",
         "1.0"
        ],
        [
         "153",
         "JFSBP1_center_east-region_1-south_east",
         "11",
         "7",
         "1",
         "1.0"
        ],
        [
         "145",
         "JFSBP1_center_east-region_1-south_east",
         "11",
         "6",
         "1",
         "1.0"
        ],
        [
         "144",
         "JFSBP1_center_east-region_1-south_east",
         "11",
         "6",
         "0",
         "1.0"
        ],
        [
         "137",
         "JFSBP1_center_east-region_1-south_east",
         "11",
         "5",
         "1",
         "1.0"
        ],
        [
         "200",
         "JFSBP1_center_east-region_1-south_east",
         "13",
         "4",
         "0",
         "1.0"
        ],
        [
         "136",
         "JFSBP1_center_east-region_1-south_east",
         "11",
         "5",
         "0",
         "1.0"
        ],
        [
         "132",
         "JFSBP1_center_east-region_1-south_east",
         "11",
         "4",
         "4",
         "1.0"
        ],
        [
         "129",
         "JFSBP1_center_east-region_1-south_east",
         "11",
         "4",
         "1",
         "1.0"
        ],
        [
         "128",
         "JFSBP1_center_east-region_1-south_east",
         "11",
         "4",
         "0",
         "1.0"
        ],
        [
         "124",
         "JFSBP1_center_east-region_1-south_east",
         "11",
         "3",
         "4",
         "1.0"
        ],
        [
         "59",
         "JFSBP1_center_east-region_1-south_east",
         "7",
         "7",
         "3",
         "1.0"
        ],
        [
         "121",
         "JFSBP1_center_east-region_1-south_east",
         "11",
         "3",
         "1",
         "1.0"
        ],
        [
         "61",
         "JFSBP1_center_east-region_1-south_east",
         "7",
         "7",
         "5",
         "1.0"
        ],
        [
         "120",
         "JFSBP1_center_east-region_1-south_east",
         "11",
         "3",
         "0",
         "1.0"
        ],
        [
         "117",
         "JFSBP1_center_east-region_1-south_east",
         "9",
         "9",
         "5",
         "1.0"
        ],
        [
         "64",
         "JFSBP1_center_east-region_1-south_east",
         "9",
         "3",
         "0",
         "1.0"
        ],
        [
         "65",
         "JFSBP1_center_east-region_1-south_east",
         "9",
         "3",
         "1",
         "1.0"
        ],
        [
         "115",
         "JFSBP1_center_east-region_1-south_east",
         "9",
         "9",
         "3",
         "1.0"
        ],
        [
         "68",
         "JFSBP1_center_east-region_1-south_east",
         "9",
         "3",
         "4",
         "1.0"
        ],
        [
         "99",
         "JFSBP1_center_east-region_1-south_east",
         "9",
         "7",
         "3",
         "1.0"
        ],
        [
         "196",
         "JFSBP1_center_east-region_1-south_east",
         "13",
         "3",
         "4",
         "1.0"
        ],
        [
         "33",
         "JFSBP1_center_east-region_1-south_east",
         "7",
         "4",
         "1",
         "1.0"
        ],
        [
         "249",
         "JFSBP1_center_east-region_1-south_east",
         "13",
         "10",
         "1",
         "1.0"
        ],
        [
         "227",
         "JFSBP1_center_east-region_1-south_east",
         "13",
         "7",
         "3",
         "1.0"
        ],
        [
         "232",
         "JFSBP1_center_east-region_1-south_east",
         "13",
         "8",
         "0",
         "1.0"
        ],
        [
         "233",
         "JFSBP1_center_east-region_1-south_east",
         "13",
         "8",
         "1",
         "1.0"
        ],
        [
         "235",
         "JFSBP1_center_east-region_1-south_east",
         "13",
         "8",
         "3",
         "1.0"
        ],
        [
         "241",
         "JFSBP1_center_east-region_1-south_east",
         "13",
         "9",
         "1",
         "1.0"
        ],
        [
         "243",
         "JFSBP1_center_east-region_1-south_east",
         "13",
         "9",
         "3",
         "1.0"
        ],
        [
         "251",
         "JFSBP1_center_east-region_1-south_east",
         "13",
         "10",
         "3",
         "1.0"
        ],
        [
         "225",
         "JFSBP1_center_east-region_1-south_east",
         "13",
         "7",
         "1",
         "1.0"
        ],
        [
         "259",
         "JFSBP1_center_east-region_1-south_east",
         "13",
         "11",
         "3",
         "1.0"
        ],
        [
         "261",
         "JFSBP1_center_east-region_1-south_east",
         "13",
         "11",
         "5",
         "1.0"
        ],
        [
         "267",
         "JFSBP1_center_east-region_1-south_east",
         "13",
         "12",
         "3",
         "1.0"
        ],
        [
         "269",
         "JFSBP1_center_east-region_1-south_east",
         "13",
         "12",
         "5",
         "1.0"
        ],
        [
         "275",
         "JFSBP1_center_east-region_1-south_east",
         "13",
         "13",
         "3",
         "1.0"
        ],
        [
         "277",
         "JFSBP1_center_east-region_1-south_east",
         "13",
         "13",
         "5",
         "1.0"
        ]
       ],
       "shape": {
        "columns": 5,
        "rows": 280
       }
      },
      "text/html": [
       "<div>\n",
       "<style scoped>\n",
       "    .dataframe tbody tr th:only-of-type {\n",
       "        vertical-align: middle;\n",
       "    }\n",
       "\n",
       "    .dataframe tbody tr th {\n",
       "        vertical-align: top;\n",
       "    }\n",
       "\n",
       "    .dataframe thead th {\n",
       "        text-align: right;\n",
       "    }\n",
       "</style>\n",
       "<table border=\"1\" class=\"dataframe\">\n",
       "  <thead>\n",
       "    <tr style=\"text-align: right;\">\n",
       "      <th></th>\n",
       "      <th>zoneID</th>\n",
       "      <th>zone_size</th>\n",
       "      <th>k</th>\n",
       "      <th>pair_index</th>\n",
       "      <th>accuracy</th>\n",
       "    </tr>\n",
       "  </thead>\n",
       "  <tbody>\n",
       "    <tr>\n",
       "      <th>189</th>\n",
       "      <td>JFSBP1_center_east-region_1-south_east</td>\n",
       "      <td>11</td>\n",
       "      <td>11</td>\n",
       "      <td>5</td>\n",
       "      <td>1.0000000</td>\n",
       "    </tr>\n",
       "    <tr>\n",
       "      <th>51</th>\n",
       "      <td>JFSBP1_center_east-region_1-south_east</td>\n",
       "      <td>7</td>\n",
       "      <td>6</td>\n",
       "      <td>3</td>\n",
       "      <td>1.0000000</td>\n",
       "    </tr>\n",
       "    <tr>\n",
       "      <th>193</th>\n",
       "      <td>JFSBP1_center_east-region_1-south_east</td>\n",
       "      <td>13</td>\n",
       "      <td>3</td>\n",
       "      <td>1</td>\n",
       "      <td>1.0000000</td>\n",
       "    </tr>\n",
       "    <tr>\n",
       "      <th>192</th>\n",
       "      <td>JFSBP1_center_east-region_1-south_east</td>\n",
       "      <td>13</td>\n",
       "      <td>3</td>\n",
       "      <td>0</td>\n",
       "      <td>1.0000000</td>\n",
       "    </tr>\n",
       "    <tr>\n",
       "      <th>73</th>\n",
       "      <td>JFSBP1_center_east-region_1-south_east</td>\n",
       "      <td>9</td>\n",
       "      <td>4</td>\n",
       "      <td>1</td>\n",
       "      <td>1.0000000</td>\n",
       "    </tr>\n",
       "    <tr>\n",
       "      <th>...</th>\n",
       "      <td>...</td>\n",
       "      <td>...</td>\n",
       "      <td>...</td>\n",
       "      <td>...</td>\n",
       "      <td>...</td>\n",
       "    </tr>\n",
       "    <tr>\n",
       "      <th>174</th>\n",
       "      <td>JFSBP1_center_east-region_1-south_east</td>\n",
       "      <td>11</td>\n",
       "      <td>9</td>\n",
       "      <td>6</td>\n",
       "      <td>0.0000000</td>\n",
       "    </tr>\n",
       "    <tr>\n",
       "      <th>166</th>\n",
       "      <td>JFSBP1_center_east-region_1-south_east</td>\n",
       "      <td>11</td>\n",
       "      <td>8</td>\n",
       "      <td>6</td>\n",
       "      <td>0.0000000</td>\n",
       "    </tr>\n",
       "    <tr>\n",
       "      <th>29</th>\n",
       "      <td>JFSBP1_center_east-region_1-south_east</td>\n",
       "      <td>7</td>\n",
       "      <td>3</td>\n",
       "      <td>5</td>\n",
       "      <td>0.0000000</td>\n",
       "    </tr>\n",
       "    <tr>\n",
       "      <th>159</th>\n",
       "      <td>JFSBP1_center_east-region_1-south_east</td>\n",
       "      <td>11</td>\n",
       "      <td>7</td>\n",
       "      <td>7</td>\n",
       "      <td>0.0000000</td>\n",
       "    </tr>\n",
       "    <tr>\n",
       "      <th>46</th>\n",
       "      <td>JFSBP1_center_east-region_1-south_east</td>\n",
       "      <td>7</td>\n",
       "      <td>5</td>\n",
       "      <td>6</td>\n",
       "      <td>0.0000000</td>\n",
       "    </tr>\n",
       "  </tbody>\n",
       "</table>\n",
       "<p>280 rows × 5 columns</p>\n",
       "</div>"
      ],
      "text/plain": [
       "                                     zoneID  zone_size   k  pair_index  \\\n",
       "189  JFSBP1_center_east-region_1-south_east         11  11           5   \n",
       "51   JFSBP1_center_east-region_1-south_east          7   6           3   \n",
       "193  JFSBP1_center_east-region_1-south_east         13   3           1   \n",
       "192  JFSBP1_center_east-region_1-south_east         13   3           0   \n",
       "73   JFSBP1_center_east-region_1-south_east          9   4           1   \n",
       "..                                      ...        ...  ..         ...   \n",
       "174  JFSBP1_center_east-region_1-south_east         11   9           6   \n",
       "166  JFSBP1_center_east-region_1-south_east         11   8           6   \n",
       "29   JFSBP1_center_east-region_1-south_east          7   3           5   \n",
       "159  JFSBP1_center_east-region_1-south_east         11   7           7   \n",
       "46   JFSBP1_center_east-region_1-south_east          7   5           6   \n",
       "\n",
       "     accuracy  \n",
       "189 1.0000000  \n",
       "51  1.0000000  \n",
       "193 1.0000000  \n",
       "192 1.0000000  \n",
       "73  1.0000000  \n",
       "..        ...  \n",
       "174 0.0000000  \n",
       "166 0.0000000  \n",
       "29  0.0000000  \n",
       "159 0.0000000  \n",
       "46  0.0000000  \n",
       "\n",
       "[280 rows x 5 columns]"
      ]
     },
     "metadata": {},
     "output_type": "display_data"
    },
    {
     "data": {
      "application/vnd.microsoft.datawrangler.viewer.v0+json": {
       "columns": [
        {
         "name": "index",
         "rawType": "int64",
         "type": "integer"
        },
        {
         "name": "zoneID",
         "rawType": "object",
         "type": "string"
        },
        {
         "name": "accuracy",
         "rawType": "float64",
         "type": "float"
        }
       ],
       "conversionMethod": "pd.DataFrame",
       "ref": "960554aa-d829-40c5-8caf-85e3592f13bf",
       "rows": [
        [
         "0",
         "JFSBP1_center_east-region_1-south_east",
         "0.47994494691309475"
        ]
       ],
       "shape": {
        "columns": 2,
        "rows": 1
       }
      },
      "text/html": [
       "<div>\n",
       "<style scoped>\n",
       "    .dataframe tbody tr th:only-of-type {\n",
       "        vertical-align: middle;\n",
       "    }\n",
       "\n",
       "    .dataframe tbody tr th {\n",
       "        vertical-align: top;\n",
       "    }\n",
       "\n",
       "    .dataframe thead th {\n",
       "        text-align: right;\n",
       "    }\n",
       "</style>\n",
       "<table border=\"1\" class=\"dataframe\">\n",
       "  <thead>\n",
       "    <tr style=\"text-align: right;\">\n",
       "      <th></th>\n",
       "      <th>zoneID</th>\n",
       "      <th>accuracy</th>\n",
       "    </tr>\n",
       "  </thead>\n",
       "  <tbody>\n",
       "    <tr>\n",
       "      <th>0</th>\n",
       "      <td>JFSBP1_center_east-region_1-south_east</td>\n",
       "      <td>0.4799449</td>\n",
       "    </tr>\n",
       "  </tbody>\n",
       "</table>\n",
       "</div>"
      ],
      "text/plain": [
       "                                   zoneID  accuracy\n",
       "0  JFSBP1_center_east-region_1-south_east 0.4799449"
      ]
     },
     "metadata": {},
     "output_type": "display_data"
    },
    {
     "data": {
      "application/vnd.microsoft.datawrangler.viewer.v0+json": {
       "columns": [
        {
         "name": "index",
         "rawType": "int64",
         "type": "integer"
        },
        {
         "name": "pair_index",
         "rawType": "int64",
         "type": "integer"
        },
        {
         "name": "accuracy",
         "rawType": "float64",
         "type": "float"
        }
       ],
       "conversionMethod": "pd.DataFrame",
       "ref": "54b00e2e-f31a-4075-87be-a03b373fdd42",
       "rows": [
        [
         "1",
         "1",
         "0.8132127408572553"
        ],
        [
         "3",
         "3",
         "0.7734958710184822"
        ],
        [
         "0",
         "0",
         "0.6964215493511601"
        ],
        [
         "4",
         "4",
         "0.5725521038143925"
        ],
        [
         "5",
         "5",
         "0.429020841525757"
        ],
        [
         "2",
         "2",
         "0.3338576484467165"
        ],
        [
         "7",
         "7",
         "0.18953991348800628"
        ],
        [
         "6",
         "6",
         "0.031458906802988594"
        ]
       ],
       "shape": {
        "columns": 2,
        "rows": 8
       }
      },
      "text/html": [
       "<div>\n",
       "<style scoped>\n",
       "    .dataframe tbody tr th:only-of-type {\n",
       "        vertical-align: middle;\n",
       "    }\n",
       "\n",
       "    .dataframe tbody tr th {\n",
       "        vertical-align: top;\n",
       "    }\n",
       "\n",
       "    .dataframe thead th {\n",
       "        text-align: right;\n",
       "    }\n",
       "</style>\n",
       "<table border=\"1\" class=\"dataframe\">\n",
       "  <thead>\n",
       "    <tr style=\"text-align: right;\">\n",
       "      <th></th>\n",
       "      <th>pair_index</th>\n",
       "      <th>accuracy</th>\n",
       "    </tr>\n",
       "  </thead>\n",
       "  <tbody>\n",
       "    <tr>\n",
       "      <th>1</th>\n",
       "      <td>1</td>\n",
       "      <td>0.8132127</td>\n",
       "    </tr>\n",
       "    <tr>\n",
       "      <th>3</th>\n",
       "      <td>3</td>\n",
       "      <td>0.7734959</td>\n",
       "    </tr>\n",
       "    <tr>\n",
       "      <th>0</th>\n",
       "      <td>0</td>\n",
       "      <td>0.6964215</td>\n",
       "    </tr>\n",
       "    <tr>\n",
       "      <th>4</th>\n",
       "      <td>4</td>\n",
       "      <td>0.5725521</td>\n",
       "    </tr>\n",
       "    <tr>\n",
       "      <th>5</th>\n",
       "      <td>5</td>\n",
       "      <td>0.4290208</td>\n",
       "    </tr>\n",
       "    <tr>\n",
       "      <th>2</th>\n",
       "      <td>2</td>\n",
       "      <td>0.3338576</td>\n",
       "    </tr>\n",
       "    <tr>\n",
       "      <th>7</th>\n",
       "      <td>7</td>\n",
       "      <td>0.1895399</td>\n",
       "    </tr>\n",
       "    <tr>\n",
       "      <th>6</th>\n",
       "      <td>6</td>\n",
       "      <td>0.0314589</td>\n",
       "    </tr>\n",
       "  </tbody>\n",
       "</table>\n",
       "</div>"
      ],
      "text/plain": [
       "   pair_index  accuracy\n",
       "1           1 0.8132127\n",
       "3           3 0.7734959\n",
       "0           0 0.6964215\n",
       "4           4 0.5725521\n",
       "5           5 0.4290208\n",
       "2           2 0.3338576\n",
       "7           7 0.1895399\n",
       "6           6 0.0314589"
      ]
     },
     "metadata": {},
     "output_type": "display_data"
    },
    {
     "data": {
      "application/vnd.microsoft.datawrangler.viewer.v0+json": {
       "columns": [
        {
         "name": "index",
         "rawType": "int64",
         "type": "integer"
        },
        {
         "name": "zone_size",
         "rawType": "int64",
         "type": "integer"
        },
        {
         "name": "accuracy",
         "rawType": "float64",
         "type": "float"
        },
        {
         "name": "random_acc",
         "rawType": "float64",
         "type": "float"
        },
        {
         "name": "better_than_random",
         "rawType": "bool",
         "type": "boolean"
        },
        {
         "name": "perc_better_than_random",
         "rawType": "float64",
         "type": "float"
        },
        {
         "name": "timesX_better_than_random",
         "rawType": "float64",
         "type": "float"
        }
       ],
       "conversionMethod": "pd.DataFrame",
       "ref": "ffbaf171-de7e-457e-af8b-6c1055028d76",
       "rows": [
        [
         "0",
         "5",
         "0.6245833333333334",
         "0.2",
         "True",
         "212.29166666666669",
         "3.122916666666667"
        ],
        [
         "1",
         "7",
         "0.54275",
         "0.14285714285714285",
         "True",
         "279.92499999999995",
         "3.79925"
        ],
        [
         "2",
         "9",
         "0.47410714285714284",
         "0.1111111111111111",
         "True",
         "326.69642857142856",
         "4.266964285714286"
        ],
        [
         "3",
         "11",
         "0.41930555555555554",
         "0.09090909090909091",
         "True",
         "361.23611111111114",
         "4.6123611111111105"
        ],
        [
         "4",
         "13",
         "0.36713286713286714",
         "0.07692307692307693",
         "True",
         "377.27272727272725",
         "4.7727272727272725"
        ]
       ],
       "shape": {
        "columns": 6,
        "rows": 5
       }
      },
      "text/html": [
       "<div>\n",
       "<style scoped>\n",
       "    .dataframe tbody tr th:only-of-type {\n",
       "        vertical-align: middle;\n",
       "    }\n",
       "\n",
       "    .dataframe tbody tr th {\n",
       "        vertical-align: top;\n",
       "    }\n",
       "\n",
       "    .dataframe thead th {\n",
       "        text-align: right;\n",
       "    }\n",
       "</style>\n",
       "<table border=\"1\" class=\"dataframe\">\n",
       "  <thead>\n",
       "    <tr style=\"text-align: right;\">\n",
       "      <th></th>\n",
       "      <th>zone_size</th>\n",
       "      <th>accuracy</th>\n",
       "      <th>random_acc</th>\n",
       "      <th>better_than_random</th>\n",
       "      <th>perc_better_than_random</th>\n",
       "      <th>timesX_better_than_random</th>\n",
       "    </tr>\n",
       "  </thead>\n",
       "  <tbody>\n",
       "    <tr>\n",
       "      <th>0</th>\n",
       "      <td>5</td>\n",
       "      <td>0.6245833</td>\n",
       "      <td>0.2000000</td>\n",
       "      <td>True</td>\n",
       "      <td>212.2916667</td>\n",
       "      <td>3.1229167</td>\n",
       "    </tr>\n",
       "    <tr>\n",
       "      <th>1</th>\n",
       "      <td>7</td>\n",
       "      <td>0.5427500</td>\n",
       "      <td>0.1428571</td>\n",
       "      <td>True</td>\n",
       "      <td>279.9250000</td>\n",
       "      <td>3.7992500</td>\n",
       "    </tr>\n",
       "    <tr>\n",
       "      <th>2</th>\n",
       "      <td>9</td>\n",
       "      <td>0.4741071</td>\n",
       "      <td>0.1111111</td>\n",
       "      <td>True</td>\n",
       "      <td>326.6964286</td>\n",
       "      <td>4.2669643</td>\n",
       "    </tr>\n",
       "    <tr>\n",
       "      <th>3</th>\n",
       "      <td>11</td>\n",
       "      <td>0.4193056</td>\n",
       "      <td>0.0909091</td>\n",
       "      <td>True</td>\n",
       "      <td>361.2361111</td>\n",
       "      <td>4.6123611</td>\n",
       "    </tr>\n",
       "    <tr>\n",
       "      <th>4</th>\n",
       "      <td>13</td>\n",
       "      <td>0.3671329</td>\n",
       "      <td>0.0769231</td>\n",
       "      <td>True</td>\n",
       "      <td>377.2727273</td>\n",
       "      <td>4.7727273</td>\n",
       "    </tr>\n",
       "  </tbody>\n",
       "</table>\n",
       "</div>"
      ],
      "text/plain": [
       "   zone_size  accuracy  random_acc  better_than_random  \\\n",
       "0          5 0.6245833   0.2000000                True   \n",
       "1          7 0.5427500   0.1428571                True   \n",
       "2          9 0.4741071   0.1111111                True   \n",
       "3         11 0.4193056   0.0909091                True   \n",
       "4         13 0.3671329   0.0769231                True   \n",
       "\n",
       "   perc_better_than_random  timesX_better_than_random  \n",
       "0              212.2916667                  3.1229167  \n",
       "1              279.9250000                  3.7992500  \n",
       "2              326.6964286                  4.2669643  \n",
       "3              361.2361111                  4.6123611  \n",
       "4              377.2727273                  4.7727273  "
      ]
     },
     "metadata": {},
     "output_type": "display_data"
    }
   ],
   "source": [
    "def get_accuracy_table(cols:list[str]|str):\n",
    "    acc_tab = (full_results_df\n",
    "        .groupby(by=cols)\n",
    "        ['is_match']\n",
    "        .mean()\n",
    "        .reset_index()\n",
    "        .sort_values(by='is_match', ascending=False).\n",
    "        rename(columns={'is_match': 'accuracy'}))\n",
    "    return acc_tab\n",
    "\n",
    "full_accuracy_table = get_accuracy_table(['zoneID', 'zone_size', 'k', 'pair_index'])\n",
    "zoneID_accuracy_table = get_accuracy_table('zoneID')\n",
    "zone_size_accuracy_table = get_accuracy_table('zone_size')\n",
    "pair_index_accuracy_table = get_accuracy_table('pair_index')\n",
    "\n",
    "zone_size_accuracy_table['random_acc'] = 1/zone_size_accuracy_table['zone_size']\n",
    "zone_size_accuracy_table['better_than_random'] = zone_size_accuracy_table['accuracy'] > zone_size_accuracy_table['random_acc']\n",
    "zone_size_accuracy_table['perc_better_than_random'] = (zone_size_accuracy_table['accuracy'] - zone_size_accuracy_table['random_acc']) / zone_size_accuracy_table['random_acc'] * 100\n",
    "zone_size_accuracy_table['timesX_better_than_random'] = zone_size_accuracy_table['accuracy'] / zone_size_accuracy_table['random_acc']\n",
    "\n",
    "display(full_accuracy_table)\n",
    "display(zoneID_accuracy_table)\n",
    "display(pair_index_accuracy_table)\n",
    "display(zone_size_accuracy_table)"
   ]
  },
  {
   "cell_type": "markdown",
   "metadata": {},
   "source": [
    "# display correlation and overall accuracy"
   ]
  },
  {
   "cell_type": "code",
   "execution_count": 5,
   "metadata": {},
   "outputs": [
    {
     "name": "stdout",
     "output_type": "stream",
     "text": [
      "Pearson correlation coefficient between 'zone_size' and 'accuracy': -0.19528747440476607\n",
      "Pearson correlation coefficient between 'k' and 'accuracy': -0.12879567513793355\n",
      "Overall accuracy: 0.47994494691309475\n"
     ]
    }
   ],
   "source": [
    "zone_size_corr = full_accuracy_table['zone_size'].corr(full_accuracy_table['accuracy'])\n",
    "print(f\"Pearson correlation coefficient between 'zone_size' and 'accuracy': {zone_size_corr}\")\n",
    "k_corr = full_accuracy_table['k'].corr(full_accuracy_table['accuracy'])\n",
    "print(f\"Pearson correlation coefficient between 'k' and 'accuracy': {k_corr}\")\n",
    "overall_accuracy = full_results_df['is_match'].mean()\n",
    "print(f\"Overall accuracy: {overall_accuracy}\")"
   ]
  },
  {
   "cell_type": "markdown",
   "metadata": {},
   "source": [
    "# display the spread of accuracies"
   ]
  },
  {
   "cell_type": "code",
   "execution_count": 6,
   "metadata": {},
   "outputs": [
    {
     "data": {
      "text/plain": [
       "count   294.0000000\n",
       "mean      0.4506635\n",
       "std       0.3998343\n",
       "min       0.0000000\n",
       "0%        0.0000000\n",
       "25%       0.0769231\n",
       "50%       0.3685664\n",
       "75%       0.9475000\n",
       "100%      1.0000000\n",
       "max       1.0000000\n",
       "dtype: float64"
      ]
     },
     "metadata": {},
     "output_type": "display_data"
    },
    {
     "data": {
      "image/png": "[encoded data removed]",
      "text/plain": [
       "<Figure size 640x480 with 1 Axes>"
      ]
     },
     "metadata": {},
     "output_type": "display_data"
    }
   ],
   "source": [
    "accuracies = np.concatenate([\n",
    "    full_accuracy_table['accuracy'].values,\n",
    "    zoneID_accuracy_table['accuracy'].values,\n",
    "    pair_index_accuracy_table['accuracy'].values,\n",
    "    zone_size_accuracy_table['accuracy'].values,\n",
    "])\n",
    "display(pd.Series(accuracies).describe(percentiles=[0.0, 0.25, 0.5, 0.75, 1.0]))\n",
    "\n",
    "plt.hist(accuracies, bins=20)\n",
    "plt.xlabel(\"Accuracy\")\n",
    "plt.ylabel(\"Frequency\")\n",
    "plt.title(\"Histogram of accuracies\")\n",
    "plt.show()"
   ]
  },
  {
   "cell_type": "markdown",
   "metadata": {},
   "source": [
    "# notes"
   ]
  },
  {
   "cell_type": "markdown",
   "metadata": {},
   "source": [
    "It appears that the accuracy is either 0 for all tests or 1.0 for all tests, so there must be a situation in the data that is causing this. Some of the enter/leave pairs just work and some don't"
   ]
  },
  {
   "cell_type": "markdown",
   "metadata": {},
   "source": [
    "**Changes analysis:**\n",
    "  * I changed the closest_k_points to always include the points that have a center of (0, 0) since this is what is returned by the get_center_pt function if the car didn't actually fully cross into the zone. This change increased the accuracy from ~18% to 35%\n",
    "  * I changed the Histogram bin size to 8, and the accuracy stayed at 35%, but the zone_size and k correlation dropped to having NO correlation at all, which is a VERY big win\n",
    "  * I changed the get_center_pt function to return the first point or last point instead of (0, 0) if it can't find the switch-over point, now accuracy is 42.5%\n",
    "  * I normalized the color histograms, and it raised the accuracy up to 47.9%"
   ]
  }
 ],
 "metadata": {
  "kernelspec": {
   "display_name": "spot",
   "language": "python",
   "name": "python3"
  },
  "language_info": {
   "codemirror_mode": {
    "name": "ipython",
    "version": 3
   },
   "file_extension": ".py",
   "mimetype": "text/x-python",
   "name": "python",
   "nbconvert_exporter": "python",
   "pygments_lexer": "ipython3",
   "version": "3.10.14"
  }
 },
 "nbformat": 4,
 "nbformat_minor": 2
}
